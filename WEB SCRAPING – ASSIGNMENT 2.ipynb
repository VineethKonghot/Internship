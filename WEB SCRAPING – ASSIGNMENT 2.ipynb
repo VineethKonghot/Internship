{
 "cells": [
  {
   "cell_type": "markdown",
   "id": "c5dd8459",
   "metadata": {},
   "source": [
    "# 1"
   ]
  },
  {
   "cell_type": "code",
   "execution_count": 1,
   "id": "5968ab1a",
   "metadata": {},
   "outputs": [],
   "source": [
    "#import libraries\n",
    "import selenium\n",
    "from selenium import webdriver\n",
    "import pandas as pd\n",
    "import warnings\n",
    "warnings.filterwarnings('ignore')"
   ]
  },
  {
   "cell_type": "code",
   "execution_count": 2,
   "id": "3328ad4e",
   "metadata": {},
   "outputs": [],
   "source": [
    "#connect to driver\n",
    "driver = webdriver.Chrome(r\"C:\\Users\\Konghot Vineeth Nair\\Desktop\\chromedriver.exe\")\n",
    "url=\"https://www.naukri.com/\"\n",
    "driver.get(url)"
   ]
  },
  {
   "cell_type": "code",
   "execution_count": 3,
   "id": "4bb85da7",
   "metadata": {},
   "outputs": [],
   "source": [
    "# entering “Data Analyst” in “Skill,Designations,Companies” field\n",
    "search_field_designation=driver.find_element_by_class_name(\"suggestor-input \")   #job  search bar\n",
    "search_field_designation.send_keys(\"Data Analyst\")\n",
    "#finding web element for job location bar\n",
    "search_locn=driver.find_element_by_xpath('/html/body/div/div[2]/div[3]/div/div/div[3]/div/div/div/input')\n",
    "search_locn.send_keys(\"Bangalore\")\n",
    "search_btn = driver.find_element_by_xpath(\"//div[@class='qsbSubmit']\")\n",
    "search_btn.click()"
   ]
  },
  {
   "cell_type": "code",
   "execution_count": 4,
   "id": "f5a464ac",
   "metadata": {},
   "outputs": [],
   "source": [
    "driver = webdriver.Chrome(r\"C:\\Users\\Konghot Vineeth Nair\\Desktop\\chromedriver.exe\")\n",
    "url=\"https://www.naukri.com/data-analyst-jobs-in-bangalore?k=data%20analyst&l=bangalore/\"\n",
    "driver.get(url)"
   ]
  },
  {
   "cell_type": "code",
   "execution_count": 5,
   "id": "e6701e09",
   "metadata": {},
   "outputs": [],
   "source": [
    "# creating empty lists for scraping data\n",
    "job_title=[]\n",
    "job_location=[]\n",
    "company_name=[]\n",
    "experience_required=[]"
   ]
  },
  {
   "cell_type": "code",
   "execution_count": 6,
   "id": "45273089",
   "metadata": {},
   "outputs": [
    {
     "data": {
      "text/plain": [
       "['Senior Data Analyst',\n",
       " 'Senior Data Analyst - FPG',\n",
       " 'Senior Data Analyst',\n",
       " 'Senior Data Analyst For a reputed E-Commerce Company at Bangalore',\n",
       " 'Senior Data Analyst For a reputed E-Commerce Company at Bangalore',\n",
       " 'Senior Data Analyst',\n",
       " 'Data Analyst',\n",
       " 'Senior Data Analyst - Data Modeling/Database Design',\n",
       " 'QA Data Analyst']"
      ]
     },
     "execution_count": 6,
     "metadata": {},
     "output_type": "execute_result"
    }
   ],
   "source": [
    "title=driver.find_elements_by_xpath(\"//a[@class='title fw500 ellipsis']\")\n",
    "for i in title:\n",
    "    title1=i.text\n",
    "    job_title.append(title1)\n",
    "job_title[0:9]"
   ]
  },
  {
   "cell_type": "code",
   "execution_count": 7,
   "id": "17b3d60f",
   "metadata": {},
   "outputs": [
    {
     "data": {
      "text/plain": [
       "['Bangalore/Bengaluru',\n",
       " 'Bangalore/Bengaluru, Karnataka',\n",
       " 'Bangalore/Bengaluru',\n",
       " 'Bangalore/Bengaluru',\n",
       " 'Bangalore/Bengaluru',\n",
       " 'Bangalore/Bengaluru',\n",
       " 'Bangalore/Bengaluru',\n",
       " 'Bangalore/Bengaluru',\n",
       " 'Bangalore/Bengaluru']"
      ]
     },
     "execution_count": 7,
     "metadata": {},
     "output_type": "execute_result"
    }
   ],
   "source": [
    "location_tag=driver.find_elements_by_xpath(\"//li[@class='fleft grey-text br2 placeHolderLi location']/span[1]\")\n",
    "for i in location_tag:\n",
    "    location=i.text\n",
    "    job_location.append(location)\n",
    "job_location[0:9]"
   ]
  },
  {
   "cell_type": "code",
   "execution_count": 8,
   "id": "de9ef286",
   "metadata": {},
   "outputs": [
    {
     "data": {
      "text/plain": [
       "['Flipkart',\n",
       " 'Flipkart',\n",
       " 'Flipkart',\n",
       " 'Yellow Box HR Services Pvt. Ltd.',\n",
       " 'Yellow Box HR Services Pvt. Ltd.',\n",
       " 'Thomson Reuters',\n",
       " 'Diverse Lynx',\n",
       " 'K & R Enterprises',\n",
       " 'Ralph Lauren']"
      ]
     },
     "execution_count": 8,
     "metadata": {},
     "output_type": "execute_result"
    }
   ],
   "source": [
    "company_tags=driver.find_elements_by_xpath(\"//a[@class='subTitle ellipsis fleft']\")\n",
    "for i in company_tags:\n",
    "    company_names=i.text\n",
    "    company_name.append(company_names)\n",
    "company_name[0:9]"
   ]
  },
  {
   "cell_type": "code",
   "execution_count": 9,
   "id": "ae2e37e2",
   "metadata": {},
   "outputs": [
    {
     "data": {
      "text/plain": [
       "['3-7 Yrs',\n",
       " '3-8 Yrs',\n",
       " '4-6 Yrs',\n",
       " '3-7 Yrs',\n",
       " '3-7 Yrs',\n",
       " '2-4 Yrs',\n",
       " '1-5 Yrs',\n",
       " '4-6 Yrs',\n",
       " '0-3 Yrs']"
      ]
     },
     "execution_count": 9,
     "metadata": {},
     "output_type": "execute_result"
    }
   ],
   "source": [
    "experience_tag=driver.find_elements_by_xpath(\"//li[@class='fleft grey-text br2 placeHolderLi experience']/span[1]\")\n",
    "for i in experience_tag:\n",
    "    experience=i.text\n",
    "    experience_required.append(experience)\n",
    "experience_required[0:9]"
   ]
  },
  {
   "cell_type": "code",
   "execution_count": 10,
   "id": "c47738de",
   "metadata": {},
   "outputs": [
    {
     "data": {
      "text/html": [
       "<div>\n",
       "<style scoped>\n",
       "    .dataframe tbody tr th:only-of-type {\n",
       "        vertical-align: middle;\n",
       "    }\n",
       "\n",
       "    .dataframe tbody tr th {\n",
       "        vertical-align: top;\n",
       "    }\n",
       "\n",
       "    .dataframe thead th {\n",
       "        text-align: right;\n",
       "    }\n",
       "</style>\n",
       "<table border=\"1\" class=\"dataframe\">\n",
       "  <thead>\n",
       "    <tr style=\"text-align: right;\">\n",
       "      <th></th>\n",
       "      <th>TITLE</th>\n",
       "      <th>LOCATION</th>\n",
       "      <th>COMPANY</th>\n",
       "      <th>EXPERIANCE</th>\n",
       "    </tr>\n",
       "  </thead>\n",
       "  <tbody>\n",
       "    <tr>\n",
       "      <th>0</th>\n",
       "      <td>Senior Data Analyst</td>\n",
       "      <td>Bangalore/Bengaluru</td>\n",
       "      <td>Flipkart</td>\n",
       "      <td>3-7 Yrs</td>\n",
       "    </tr>\n",
       "    <tr>\n",
       "      <th>1</th>\n",
       "      <td>Senior Data Analyst - FPG</td>\n",
       "      <td>Bangalore/Bengaluru, Karnataka</td>\n",
       "      <td>Flipkart</td>\n",
       "      <td>3-8 Yrs</td>\n",
       "    </tr>\n",
       "    <tr>\n",
       "      <th>2</th>\n",
       "      <td>Senior Data Analyst</td>\n",
       "      <td>Bangalore/Bengaluru</td>\n",
       "      <td>Flipkart</td>\n",
       "      <td>4-6 Yrs</td>\n",
       "    </tr>\n",
       "    <tr>\n",
       "      <th>3</th>\n",
       "      <td>Senior Data Analyst For a reputed E-Commerce C...</td>\n",
       "      <td>Bangalore/Bengaluru</td>\n",
       "      <td>Yellow Box HR Services Pvt. Ltd.</td>\n",
       "      <td>3-7 Yrs</td>\n",
       "    </tr>\n",
       "    <tr>\n",
       "      <th>4</th>\n",
       "      <td>Senior Data Analyst For a reputed E-Commerce C...</td>\n",
       "      <td>Bangalore/Bengaluru</td>\n",
       "      <td>Yellow Box HR Services Pvt. Ltd.</td>\n",
       "      <td>3-7 Yrs</td>\n",
       "    </tr>\n",
       "    <tr>\n",
       "      <th>5</th>\n",
       "      <td>Senior Data Analyst</td>\n",
       "      <td>Bangalore/Bengaluru</td>\n",
       "      <td>Thomson Reuters</td>\n",
       "      <td>2-4 Yrs</td>\n",
       "    </tr>\n",
       "    <tr>\n",
       "      <th>6</th>\n",
       "      <td>Data Analyst</td>\n",
       "      <td>Bangalore/Bengaluru</td>\n",
       "      <td>Diverse Lynx</td>\n",
       "      <td>1-5 Yrs</td>\n",
       "    </tr>\n",
       "    <tr>\n",
       "      <th>7</th>\n",
       "      <td>Senior Data Analyst - Data Modeling/Database D...</td>\n",
       "      <td>Bangalore/Bengaluru</td>\n",
       "      <td>K &amp; R Enterprises</td>\n",
       "      <td>4-6 Yrs</td>\n",
       "    </tr>\n",
       "    <tr>\n",
       "      <th>8</th>\n",
       "      <td>QA Data Analyst</td>\n",
       "      <td>Bangalore/Bengaluru</td>\n",
       "      <td>Ralph Lauren</td>\n",
       "      <td>0-3 Yrs</td>\n",
       "    </tr>\n",
       "    <tr>\n",
       "      <th>9</th>\n",
       "      <td>Data analyst</td>\n",
       "      <td>Bangalore/Bengaluru</td>\n",
       "      <td>GSK India</td>\n",
       "      <td>5-9 Yrs</td>\n",
       "    </tr>\n",
       "  </tbody>\n",
       "</table>\n",
       "</div>"
      ],
      "text/plain": [
       "                                               TITLE  \\\n",
       "0                                Senior Data Analyst   \n",
       "1                          Senior Data Analyst - FPG   \n",
       "2                                Senior Data Analyst   \n",
       "3  Senior Data Analyst For a reputed E-Commerce C...   \n",
       "4  Senior Data Analyst For a reputed E-Commerce C...   \n",
       "5                                Senior Data Analyst   \n",
       "6                                       Data Analyst   \n",
       "7  Senior Data Analyst - Data Modeling/Database D...   \n",
       "8                                    QA Data Analyst   \n",
       "9                                       Data analyst   \n",
       "\n",
       "                         LOCATION                           COMPANY EXPERIANCE  \n",
       "0             Bangalore/Bengaluru                          Flipkart    3-7 Yrs  \n",
       "1  Bangalore/Bengaluru, Karnataka                          Flipkart    3-8 Yrs  \n",
       "2             Bangalore/Bengaluru                          Flipkart    4-6 Yrs  \n",
       "3             Bangalore/Bengaluru  Yellow Box HR Services Pvt. Ltd.    3-7 Yrs  \n",
       "4             Bangalore/Bengaluru  Yellow Box HR Services Pvt. Ltd.    3-7 Yrs  \n",
       "5             Bangalore/Bengaluru                   Thomson Reuters    2-4 Yrs  \n",
       "6             Bangalore/Bengaluru                      Diverse Lynx    1-5 Yrs  \n",
       "7             Bangalore/Bengaluru                 K & R Enterprises    4-6 Yrs  \n",
       "8             Bangalore/Bengaluru                      Ralph Lauren    0-3 Yrs  \n",
       "9             Bangalore/Bengaluru                         GSK India    5-9 Yrs  "
      ]
     },
     "execution_count": 10,
     "metadata": {},
     "output_type": "execute_result"
    }
   ],
   "source": [
    "jobs=pd.DataFrame({})\n",
    "jobs['TITLE']=job_title[0:10]\n",
    "jobs['LOCATION']=job_location[0:10]\n",
    "jobs['COMPANY']=company_name[0:10]\n",
    "jobs['EXPERIANCE']=experience_required[0:10]\n",
    "jobs"
   ]
  },
  {
   "cell_type": "code",
   "execution_count": 11,
   "id": "5263723d",
   "metadata": {},
   "outputs": [],
   "source": [
    "driver.close()"
   ]
  },
  {
   "cell_type": "markdown",
   "id": "986d4a8a",
   "metadata": {},
   "source": [
    "# 2"
   ]
  },
  {
   "cell_type": "code",
   "execution_count": 12,
   "id": "4fc55fa5",
   "metadata": {},
   "outputs": [],
   "source": [
    "#import libraries\n",
    "import selenium\n",
    "from selenium import webdriver\n",
    "import pandas as pd\n",
    "import warnings\n",
    "warnings.filterwarnings('ignore')"
   ]
  },
  {
   "cell_type": "code",
   "execution_count": 13,
   "id": "f7f70594",
   "metadata": {},
   "outputs": [],
   "source": [
    "#connect to driver\n",
    "driver = webdriver.Chrome(r\"C:\\Users\\Konghot Vineeth Nair\\Desktop\\chromedriver.exe\")\n",
    "url=\"https://www.naukri.com/\"\n",
    "driver.get(url)"
   ]
  },
  {
   "cell_type": "code",
   "execution_count": 14,
   "id": "d8716bea",
   "metadata": {},
   "outputs": [],
   "source": [
    "# entering “Data Analyst” in “Skill,Designations,Companies” field\n",
    "search_field_designation=driver.find_element_by_class_name(\"suggestor-input \")   #job  search bar\n",
    "search_field_designation.send_keys(\"Data Scientist\")\n",
    "#finding web element for job location bar\n",
    "search_locn=driver.find_element_by_xpath('/html/body/div/div[2]/div[3]/div/div/div[3]/div/div/div/input')\n",
    "search_locn.send_keys(\"Bangalore\")\n",
    "search_btn = driver.find_element_by_xpath(\"//div[@class='qsbSubmit']\")\n",
    "search_btn.click()"
   ]
  },
  {
   "cell_type": "code",
   "execution_count": 15,
   "id": "2ca67b4d",
   "metadata": {},
   "outputs": [],
   "source": [
    "#connect to driver\n",
    "driver = webdriver.Chrome(r\"C:\\Users\\Konghot Vineeth Nair\\Desktop\\chromedriver.exe\")\n",
    "url=\"https://www.naukri.com/data-analyst-jobs-in-bangalore?k=data%20analyst&l=bangalore/\"\n",
    "driver.get(url)"
   ]
  },
  {
   "cell_type": "code",
   "execution_count": 16,
   "id": "1c78584f",
   "metadata": {},
   "outputs": [
    {
     "data": {
      "text/plain": [
       "['Senior Data Analyst',\n",
       " 'Senior Data Analyst - FPG',\n",
       " 'Senior Data Analyst',\n",
       " 'Senior Data Analyst For a reputed E-Commerce Company at Bangalore',\n",
       " 'Senior Data Analyst For a reputed E-Commerce Company at Bangalore',\n",
       " 'Senior Data Analyst',\n",
       " 'Data Analyst',\n",
       " 'Senior Data Analyst - Data Modeling/Database Design',\n",
       " 'QA Data Analyst']"
      ]
     },
     "execution_count": 16,
     "metadata": {},
     "output_type": "execute_result"
    }
   ],
   "source": [
    "job_title=[]\n",
    "title=driver.find_elements_by_xpath(\"//a[@class='title fw500 ellipsis']\")\n",
    "for i in title:\n",
    "    title1=i.text\n",
    "    job_title.append(title1)\n",
    "job_title[0:9]"
   ]
  },
  {
   "cell_type": "code",
   "execution_count": 17,
   "id": "2e2ad03a",
   "metadata": {},
   "outputs": [
    {
     "data": {
      "text/plain": [
       "['Bangalore/Bengaluru',\n",
       " 'Bangalore/Bengaluru, Karnataka',\n",
       " 'Bangalore/Bengaluru',\n",
       " 'Bangalore/Bengaluru',\n",
       " 'Bangalore/Bengaluru',\n",
       " 'Bangalore/Bengaluru',\n",
       " 'Bangalore/Bengaluru',\n",
       " 'Bangalore/Bengaluru',\n",
       " 'Bangalore/Bengaluru']"
      ]
     },
     "execution_count": 17,
     "metadata": {},
     "output_type": "execute_result"
    }
   ],
   "source": [
    "job_location=[]\n",
    "location=driver.find_elements_by_xpath(\"//li[@class='fleft grey-text br2 placeHolderLi location']/span[1]\")\n",
    "for i in location:\n",
    "    location1=i.text\n",
    "    job_location.append(location1)\n",
    "job_location[0:9]"
   ]
  },
  {
   "cell_type": "code",
   "execution_count": 18,
   "id": "1ee3ddbd",
   "metadata": {},
   "outputs": [
    {
     "data": {
      "text/plain": [
       "['Flipkart',\n",
       " 'Flipkart',\n",
       " 'Flipkart',\n",
       " 'Yellow Box HR Services Pvt. Ltd.',\n",
       " 'Yellow Box HR Services Pvt. Ltd.',\n",
       " 'Thomson Reuters',\n",
       " 'Diverse Lynx',\n",
       " 'K & R Enterprises',\n",
       " 'Ralph Lauren']"
      ]
     },
     "execution_count": 18,
     "metadata": {},
     "output_type": "execute_result"
    }
   ],
   "source": [
    "company_name=[]\n",
    "company_tags=driver.find_elements_by_xpath(\"//a[@class='subTitle ellipsis fleft']\")\n",
    "for i in company_tags:\n",
    "    company_names=i.text\n",
    "    company_name.append(company_names)\n",
    "company_name[0:9]"
   ]
  },
  {
   "cell_type": "code",
   "execution_count": 19,
   "id": "9e1dfef4",
   "metadata": {},
   "outputs": [
    {
     "data": {
      "text/html": [
       "<div>\n",
       "<style scoped>\n",
       "    .dataframe tbody tr th:only-of-type {\n",
       "        vertical-align: middle;\n",
       "    }\n",
       "\n",
       "    .dataframe tbody tr th {\n",
       "        vertical-align: top;\n",
       "    }\n",
       "\n",
       "    .dataframe thead th {\n",
       "        text-align: right;\n",
       "    }\n",
       "</style>\n",
       "<table border=\"1\" class=\"dataframe\">\n",
       "  <thead>\n",
       "    <tr style=\"text-align: right;\">\n",
       "      <th></th>\n",
       "      <th>TITLE</th>\n",
       "      <th>LOCATION</th>\n",
       "      <th>COMPANY</th>\n",
       "    </tr>\n",
       "  </thead>\n",
       "  <tbody>\n",
       "    <tr>\n",
       "      <th>0</th>\n",
       "      <td>Senior Data Analyst</td>\n",
       "      <td>Bangalore/Bengaluru</td>\n",
       "      <td>Flipkart</td>\n",
       "    </tr>\n",
       "    <tr>\n",
       "      <th>1</th>\n",
       "      <td>Senior Data Analyst - FPG</td>\n",
       "      <td>Bangalore/Bengaluru, Karnataka</td>\n",
       "      <td>Flipkart</td>\n",
       "    </tr>\n",
       "    <tr>\n",
       "      <th>2</th>\n",
       "      <td>Senior Data Analyst</td>\n",
       "      <td>Bangalore/Bengaluru</td>\n",
       "      <td>Flipkart</td>\n",
       "    </tr>\n",
       "    <tr>\n",
       "      <th>3</th>\n",
       "      <td>Senior Data Analyst For a reputed E-Commerce C...</td>\n",
       "      <td>Bangalore/Bengaluru</td>\n",
       "      <td>Yellow Box HR Services Pvt. Ltd.</td>\n",
       "    </tr>\n",
       "    <tr>\n",
       "      <th>4</th>\n",
       "      <td>Senior Data Analyst For a reputed E-Commerce C...</td>\n",
       "      <td>Bangalore/Bengaluru</td>\n",
       "      <td>Yellow Box HR Services Pvt. Ltd.</td>\n",
       "    </tr>\n",
       "    <tr>\n",
       "      <th>5</th>\n",
       "      <td>Senior Data Analyst</td>\n",
       "      <td>Bangalore/Bengaluru</td>\n",
       "      <td>Thomson Reuters</td>\n",
       "    </tr>\n",
       "    <tr>\n",
       "      <th>6</th>\n",
       "      <td>Data Analyst</td>\n",
       "      <td>Bangalore/Bengaluru</td>\n",
       "      <td>Diverse Lynx</td>\n",
       "    </tr>\n",
       "    <tr>\n",
       "      <th>7</th>\n",
       "      <td>Senior Data Analyst - Data Modeling/Database D...</td>\n",
       "      <td>Bangalore/Bengaluru</td>\n",
       "      <td>K &amp; R Enterprises</td>\n",
       "    </tr>\n",
       "    <tr>\n",
       "      <th>8</th>\n",
       "      <td>QA Data Analyst</td>\n",
       "      <td>Bangalore/Bengaluru</td>\n",
       "      <td>Ralph Lauren</td>\n",
       "    </tr>\n",
       "    <tr>\n",
       "      <th>9</th>\n",
       "      <td>Data analyst</td>\n",
       "      <td>Bangalore/Bengaluru</td>\n",
       "      <td>GSK India</td>\n",
       "    </tr>\n",
       "  </tbody>\n",
       "</table>\n",
       "</div>"
      ],
      "text/plain": [
       "                                               TITLE  \\\n",
       "0                                Senior Data Analyst   \n",
       "1                          Senior Data Analyst - FPG   \n",
       "2                                Senior Data Analyst   \n",
       "3  Senior Data Analyst For a reputed E-Commerce C...   \n",
       "4  Senior Data Analyst For a reputed E-Commerce C...   \n",
       "5                                Senior Data Analyst   \n",
       "6                                       Data Analyst   \n",
       "7  Senior Data Analyst - Data Modeling/Database D...   \n",
       "8                                    QA Data Analyst   \n",
       "9                                       Data analyst   \n",
       "\n",
       "                         LOCATION                           COMPANY  \n",
       "0             Bangalore/Bengaluru                          Flipkart  \n",
       "1  Bangalore/Bengaluru, Karnataka                          Flipkart  \n",
       "2             Bangalore/Bengaluru                          Flipkart  \n",
       "3             Bangalore/Bengaluru  Yellow Box HR Services Pvt. Ltd.  \n",
       "4             Bangalore/Bengaluru  Yellow Box HR Services Pvt. Ltd.  \n",
       "5             Bangalore/Bengaluru                   Thomson Reuters  \n",
       "6             Bangalore/Bengaluru                      Diverse Lynx  \n",
       "7             Bangalore/Bengaluru                 K & R Enterprises  \n",
       "8             Bangalore/Bengaluru                      Ralph Lauren  \n",
       "9             Bangalore/Bengaluru                         GSK India  "
      ]
     },
     "execution_count": 19,
     "metadata": {},
     "output_type": "execute_result"
    }
   ],
   "source": [
    "jobs=pd.DataFrame({})\n",
    "jobs['TITLE']=job_title[0:10]\n",
    "jobs['LOCATION']=job_location[0:10]\n",
    "jobs['COMPANY']=company_name[0:10]\n",
    "jobs"
   ]
  },
  {
   "cell_type": "code",
   "execution_count": 20,
   "id": "cd3804d4",
   "metadata": {},
   "outputs": [],
   "source": [
    "driver.close()"
   ]
  },
  {
   "cell_type": "markdown",
   "id": "e3a20484",
   "metadata": {},
   "source": [
    "# 3"
   ]
  },
  {
   "cell_type": "code",
   "execution_count": 21,
   "id": "14181cae",
   "metadata": {},
   "outputs": [],
   "source": [
    "#import libraries\n",
    "import selenium\n",
    "from selenium import webdriver\n",
    "import pandas as pd\n",
    "import warnings\n",
    "warnings.filterwarnings('ignore')"
   ]
  },
  {
   "cell_type": "code",
   "execution_count": 22,
   "id": "2cc8d839",
   "metadata": {},
   "outputs": [],
   "source": [
    "#connect to driver\n",
    "driver = webdriver.Chrome(r\"C:\\Users\\Konghot Vineeth Nair\\Desktop\\chromedriver.exe\")\n",
    "url=\"https://www.naukri.com/\"\n",
    "driver.get(url)"
   ]
  },
  {
   "cell_type": "code",
   "execution_count": 23,
   "id": "26e8c7bc",
   "metadata": {},
   "outputs": [],
   "source": [
    "# entering “Data Analyst” in “Skill,Designations,Companies” field\n",
    "search_field_designation=driver.find_element_by_class_name(\"suggestor-input \")   #job  search bar\n",
    "search_field_designation.send_keys(\"Data Scientist\")\n",
    "search_btn = driver.find_element_by_xpath(\"//div[@class='qsbSubmit']\")\n",
    "search_btn.click()"
   ]
  },
  {
   "cell_type": "code",
   "execution_count": 24,
   "id": "73ac9594",
   "metadata": {},
   "outputs": [],
   "source": [
    "place= driver.find_element_by_xpath(\"/html/body/div[1]/div[3]/div[2]/section[1]/div[2]/div[3]/div[2]/div[3]/label/i\")\n",
    "place.click()"
   ]
  },
  {
   "cell_type": "code",
   "execution_count": 26,
   "id": "abc79202",
   "metadata": {},
   "outputs": [],
   "source": [
    "sal_clk=driver.find_elements_by_xpath(\"//span[@class='ellipsis fleft']\")\n",
    "for i in sal_clk:\n",
    "    if i.text == '3-6 Lakhs':   \n",
    "        i.click() # Checking the checkbox to apply filter on the salary\n",
    "        break "
   ]
  },
  {
   "cell_type": "code",
   "execution_count": 27,
   "id": "efd20f78",
   "metadata": {},
   "outputs": [
    {
     "data": {
      "text/plain": [
       "['Urgent Requirement || Data Scientist || Noida',\n",
       " 'Data Analyst / Data Scientist / Business Analytics / Fresher - MNC',\n",
       " 'Data Scientist/Senior Scientist - Python/Spark/Hadoop',\n",
       " 'Data Scientist',\n",
       " 'Hiring For Data Analyst and Data Scientist For Gurgaon Location',\n",
       " 'Data Scientist',\n",
       " 'Data Scientist | A Fintech Organisation',\n",
       " 'Data Scientist',\n",
       " 'Data Scientist',\n",
       " 'Data Scientist-Onsite and offshore',\n",
       " 'Data Scientist (freelance)',\n",
       " 'Data & Applied Scientist',\n",
       " 'Data and applied Scientist',\n",
       " 'Data Scientist II',\n",
       " 'Data Scientist',\n",
       " 'Data Scientist',\n",
       " 'Opening For Data Scientist',\n",
       " 'Data Scientist',\n",
       " 'Senior Data Scientist',\n",
       " 'Lead Data Scientist - KYC/Fraud/Marketing']"
      ]
     },
     "execution_count": 27,
     "metadata": {},
     "output_type": "execute_result"
    }
   ],
   "source": [
    "job_title=[]\n",
    "title=driver.find_elements_by_xpath(\"//a[@class='title fw500 ellipsis']\")\n",
    "for i in title:\n",
    "    title1=i.text\n",
    "    job_title.append(title1)\n",
    "job_title"
   ]
  },
  {
   "cell_type": "code",
   "execution_count": 28,
   "id": "e638d51b",
   "metadata": {},
   "outputs": [
    {
     "data": {
      "text/plain": [
       "['Noida, Delhi / NCR',\n",
       " 'Noida, New Delhi, Delhi / NCR',\n",
       " 'Gurgaon/Gurugram',\n",
       " 'Hyderabad/Secunderabad, Bangalore/Bengaluru, Delhi / NCR',\n",
       " 'Noida, Gurgaon/Gurugram, Delhi / NCR',\n",
       " 'New Delhi',\n",
       " 'Gurgaon/Gurugram',\n",
       " 'Gurgaon/Gurugram, Chennai',\n",
       " 'Kolkata, Hyderabad/Secunderabad, Pune, Chennai, Bangalore/Bengaluru, Delhi / NCR',\n",
       " 'Hyderabad/Secunderabad, Pune, Chennai, Bangalore/Bengaluru, Delhi / NCR, Mumbai (All Areas)',\n",
       " 'New Delhi, Delhi',\n",
       " 'Noida, Hyderabad/Secunderabad, Bangalore/Bengaluru',\n",
       " 'Noida, Hyderabad/Secunderabad, Bangalore/Bengaluru',\n",
       " 'Delhi / NCR',\n",
       " 'New Delhi',\n",
       " 'New Delhi, Delhi / NCR, Mumbai (All Areas)',\n",
       " 'Gurgaon/Gurugram',\n",
       " 'Noida',\n",
       " 'Delhi',\n",
       " 'New Delhi']"
      ]
     },
     "execution_count": 28,
     "metadata": {},
     "output_type": "execute_result"
    }
   ],
   "source": [
    "job_location=[]\n",
    "location=driver.find_elements_by_xpath(\"//li[@class='fleft grey-text br2 placeHolderLi location']/span[1]\")\n",
    "for i in location:\n",
    "    location1=i.text\n",
    "    job_location.append(location1)\n",
    "job_location"
   ]
  },
  {
   "cell_type": "code",
   "execution_count": 29,
   "id": "806a2072",
   "metadata": {},
   "outputs": [
    {
     "data": {
      "text/plain": [
       "['HCL',\n",
       " 'GABA Consultancy services',\n",
       " 'Connexions',\n",
       " 'NAVIKENZ INDIA PRIVATE LIMITED',\n",
       " 'Shadow Placements',\n",
       " 'CHANGE LEADERS CONSULTING',\n",
       " 'Vision Beyond Resources India Private Limited',\n",
       " 'DECISION POINT PRIVATE LIMITED',\n",
       " 'Alp Consulting Limited',\n",
       " 'PROKXIMITY',\n",
       " '2Coms',\n",
       " 'Microsoft',\n",
       " 'Microsoft',\n",
       " 'Chegg',\n",
       " 'Boston Consulting Group',\n",
       " 'Cloudstrats Technologies Private Limited',\n",
       " 'Care Health Insurance',\n",
       " 'Stefanini',\n",
       " 'iNICU',\n",
       " 'Tide Software']"
      ]
     },
     "execution_count": 29,
     "metadata": {},
     "output_type": "execute_result"
    }
   ],
   "source": [
    "company_name=[]\n",
    "company_tags=driver.find_elements_by_xpath(\"//a[@class='subTitle ellipsis fleft']\")\n",
    "for i in company_tags:\n",
    "    company_names=i.text\n",
    "    company_name.append(company_names)\n",
    "company_name"
   ]
  },
  {
   "cell_type": "code",
   "execution_count": 30,
   "id": "3717318b",
   "metadata": {},
   "outputs": [
    {
     "data": {
      "text/plain": [
       "['3-8 Yrs',\n",
       " '0-0 Yrs',\n",
       " '2-6 Yrs',\n",
       " '2-5 Yrs',\n",
       " '3-7 Yrs',\n",
       " '3-8 Yrs',\n",
       " '2-7 Yrs',\n",
       " '1-6 Yrs',\n",
       " '1-6 Yrs',\n",
       " '3-8 Yrs',\n",
       " '2-7 Yrs',\n",
       " '3-7 Yrs',\n",
       " '3-7 Yrs',\n",
       " '2-6 Yrs',\n",
       " '2-5 Yrs',\n",
       " '3-5 Yrs',\n",
       " '1-5 Yrs',\n",
       " '3-8 Yrs',\n",
       " '1-5 Yrs',\n",
       " '1-6 Yrs']"
      ]
     },
     "execution_count": 30,
     "metadata": {},
     "output_type": "execute_result"
    }
   ],
   "source": [
    "experience_required=[]\n",
    "experience_tags=driver.find_elements_by_xpath(\"//li[@class='fleft grey-text br2 placeHolderLi experience']\")\n",
    "for i in experience_tags:\n",
    "    experience_names=i.text\n",
    "    experience_required.append(experience_names)\n",
    "experience_required"
   ]
  },
  {
   "cell_type": "code",
   "execution_count": 31,
   "id": "93689098",
   "metadata": {},
   "outputs": [
    {
     "data": {
      "text/html": [
       "<div>\n",
       "<style scoped>\n",
       "    .dataframe tbody tr th:only-of-type {\n",
       "        vertical-align: middle;\n",
       "    }\n",
       "\n",
       "    .dataframe tbody tr th {\n",
       "        vertical-align: top;\n",
       "    }\n",
       "\n",
       "    .dataframe thead th {\n",
       "        text-align: right;\n",
       "    }\n",
       "</style>\n",
       "<table border=\"1\" class=\"dataframe\">\n",
       "  <thead>\n",
       "    <tr style=\"text-align: right;\">\n",
       "      <th></th>\n",
       "      <th>TITLE</th>\n",
       "      <th>LOCATION</th>\n",
       "      <th>COMPANY</th>\n",
       "      <th>EXPERIENCE</th>\n",
       "    </tr>\n",
       "  </thead>\n",
       "  <tbody>\n",
       "    <tr>\n",
       "      <th>0</th>\n",
       "      <td>Urgent Requirement || Data Scientist || Noida</td>\n",
       "      <td>Noida, Delhi / NCR</td>\n",
       "      <td>HCL</td>\n",
       "      <td>3-8 Yrs</td>\n",
       "    </tr>\n",
       "    <tr>\n",
       "      <th>1</th>\n",
       "      <td>Data Analyst / Data Scientist / Business Analy...</td>\n",
       "      <td>Noida, New Delhi, Delhi / NCR</td>\n",
       "      <td>GABA Consultancy services</td>\n",
       "      <td>0-0 Yrs</td>\n",
       "    </tr>\n",
       "    <tr>\n",
       "      <th>2</th>\n",
       "      <td>Data Scientist/Senior Scientist - Python/Spark...</td>\n",
       "      <td>Gurgaon/Gurugram</td>\n",
       "      <td>Connexions</td>\n",
       "      <td>2-6 Yrs</td>\n",
       "    </tr>\n",
       "    <tr>\n",
       "      <th>3</th>\n",
       "      <td>Data Scientist</td>\n",
       "      <td>Hyderabad/Secunderabad, Bangalore/Bengaluru, D...</td>\n",
       "      <td>NAVIKENZ INDIA PRIVATE LIMITED</td>\n",
       "      <td>2-5 Yrs</td>\n",
       "    </tr>\n",
       "    <tr>\n",
       "      <th>4</th>\n",
       "      <td>Hiring For Data Analyst and Data Scientist For...</td>\n",
       "      <td>Noida, Gurgaon/Gurugram, Delhi / NCR</td>\n",
       "      <td>Shadow Placements</td>\n",
       "      <td>3-7 Yrs</td>\n",
       "    </tr>\n",
       "    <tr>\n",
       "      <th>5</th>\n",
       "      <td>Data Scientist</td>\n",
       "      <td>New Delhi</td>\n",
       "      <td>CHANGE LEADERS CONSULTING</td>\n",
       "      <td>3-8 Yrs</td>\n",
       "    </tr>\n",
       "    <tr>\n",
       "      <th>6</th>\n",
       "      <td>Data Scientist | A Fintech Organisation</td>\n",
       "      <td>Gurgaon/Gurugram</td>\n",
       "      <td>Vision Beyond Resources India Private Limited</td>\n",
       "      <td>2-7 Yrs</td>\n",
       "    </tr>\n",
       "    <tr>\n",
       "      <th>7</th>\n",
       "      <td>Data Scientist</td>\n",
       "      <td>Gurgaon/Gurugram, Chennai</td>\n",
       "      <td>DECISION POINT PRIVATE LIMITED</td>\n",
       "      <td>1-6 Yrs</td>\n",
       "    </tr>\n",
       "    <tr>\n",
       "      <th>8</th>\n",
       "      <td>Data Scientist</td>\n",
       "      <td>Kolkata, Hyderabad/Secunderabad, Pune, Chennai...</td>\n",
       "      <td>Alp Consulting Limited</td>\n",
       "      <td>1-6 Yrs</td>\n",
       "    </tr>\n",
       "    <tr>\n",
       "      <th>9</th>\n",
       "      <td>Data Scientist-Onsite and offshore</td>\n",
       "      <td>Hyderabad/Secunderabad, Pune, Chennai, Bangalo...</td>\n",
       "      <td>PROKXIMITY</td>\n",
       "      <td>3-8 Yrs</td>\n",
       "    </tr>\n",
       "  </tbody>\n",
       "</table>\n",
       "</div>"
      ],
      "text/plain": [
       "                                               TITLE  \\\n",
       "0      Urgent Requirement || Data Scientist || Noida   \n",
       "1  Data Analyst / Data Scientist / Business Analy...   \n",
       "2  Data Scientist/Senior Scientist - Python/Spark...   \n",
       "3                                     Data Scientist   \n",
       "4  Hiring For Data Analyst and Data Scientist For...   \n",
       "5                                     Data Scientist   \n",
       "6            Data Scientist | A Fintech Organisation   \n",
       "7                                     Data Scientist   \n",
       "8                                     Data Scientist   \n",
       "9                 Data Scientist-Onsite and offshore   \n",
       "\n",
       "                                            LOCATION  \\\n",
       "0                                 Noida, Delhi / NCR   \n",
       "1                      Noida, New Delhi, Delhi / NCR   \n",
       "2                                   Gurgaon/Gurugram   \n",
       "3  Hyderabad/Secunderabad, Bangalore/Bengaluru, D...   \n",
       "4               Noida, Gurgaon/Gurugram, Delhi / NCR   \n",
       "5                                          New Delhi   \n",
       "6                                   Gurgaon/Gurugram   \n",
       "7                          Gurgaon/Gurugram, Chennai   \n",
       "8  Kolkata, Hyderabad/Secunderabad, Pune, Chennai...   \n",
       "9  Hyderabad/Secunderabad, Pune, Chennai, Bangalo...   \n",
       "\n",
       "                                         COMPANY EXPERIENCE  \n",
       "0                                            HCL    3-8 Yrs  \n",
       "1                      GABA Consultancy services    0-0 Yrs  \n",
       "2                                     Connexions    2-6 Yrs  \n",
       "3                 NAVIKENZ INDIA PRIVATE LIMITED    2-5 Yrs  \n",
       "4                              Shadow Placements    3-7 Yrs  \n",
       "5                      CHANGE LEADERS CONSULTING    3-8 Yrs  \n",
       "6  Vision Beyond Resources India Private Limited    2-7 Yrs  \n",
       "7                 DECISION POINT PRIVATE LIMITED    1-6 Yrs  \n",
       "8                         Alp Consulting Limited    1-6 Yrs  \n",
       "9                                     PROKXIMITY    3-8 Yrs  "
      ]
     },
     "execution_count": 31,
     "metadata": {},
     "output_type": "execute_result"
    }
   ],
   "source": [
    "jobs=pd.DataFrame({})\n",
    "jobs['TITLE']=job_title[0:10]\n",
    "jobs['LOCATION']=job_location[0:10]\n",
    "jobs['COMPANY']=company_name[0:10]\n",
    "jobs['EXPERIENCE']=experience_required[0:10]\n",
    "jobs"
   ]
  },
  {
   "cell_type": "code",
   "execution_count": 32,
   "id": "904228f3",
   "metadata": {},
   "outputs": [],
   "source": [
    "driver.close()"
   ]
  },
  {
   "cell_type": "markdown",
   "id": "d7af86f8",
   "metadata": {},
   "source": [
    "# 4"
   ]
  },
  {
   "cell_type": "code",
   "execution_count": 33,
   "id": "c20586cf",
   "metadata": {},
   "outputs": [],
   "source": [
    "#import libraries\n",
    "import selenium\n",
    "from selenium import webdriver\n",
    "import pandas as pd\n",
    "import warnings\n",
    "from time import sleep\n",
    "warnings.filterwarnings('ignore')\n",
    "driver = webdriver.Chrome(executable_path=r\"C:\\Users\\Konghot Vineeth Nair\\Desktop\\chromedriver.exe\")\n",
    "driver.get('https://www.flipkart.com/')"
   ]
  },
  {
   "cell_type": "code",
   "execution_count": 35,
   "id": "a74745e4",
   "metadata": {},
   "outputs": [],
   "source": [
    "# finding web elements\n",
    "search= driver.find_element_by_class_name(\"_3704LK\")\n",
    "#write or type on search bar\n",
    "search.send_keys(\"sunglasses\")\n",
    "search_btn = driver.find_element_by_class_name(\"L0Z3Pu\")\n",
    "search_btn.click()"
   ]
  },
  {
   "cell_type": "code",
   "execution_count": 36,
   "id": "94652b4a",
   "metadata": {},
   "outputs": [],
   "source": [
    "url = \"https://www.flipkart.com/search?q=sunglasses&otracker=search&otracker1=search&marketplace=FLIPKART&as-show=on&as=off\"\n",
    "driver.get(url)"
   ]
  },
  {
   "cell_type": "code",
   "execution_count": 37,
   "id": "93840823",
   "metadata": {},
   "outputs": [],
   "source": [
    "page_url=[]\n",
    "\n",
    "url=driver.find_elements_by_xpath(\"//nav[@class='yFHi8N']//a\")\n",
    "for i in url:\n",
    "    page_url.append(i.get_attribute('href'))\n",
    "page_url=page_url[0:3]"
   ]
  },
  {
   "cell_type": "code",
   "execution_count": 38,
   "id": "4e61b4e8",
   "metadata": {},
   "outputs": [
    {
     "name": "stdout",
     "output_type": "stream",
     "text": [
      "Scraping page 1\n",
      "Scraping page 2\n",
      "Scraping page 3\n"
     ]
    }
   ],
   "source": [
    "glass_brand=[]\n",
    "glass_description=[]\n",
    "glass_price=[]\n",
    "glass_offer=[]\n",
    "\n",
    "for i in range(3):\n",
    "    print('Scraping page', i+1)\n",
    "    \n",
    "    brand_tag=driver.find_elements_by_xpath(\"//div[@class='_2WkVRV']\")\n",
    "    for i in brand_tag:\n",
    "        brand=i.text\n",
    "        glass_brand.append(brand)\n",
    "    disc_tag=driver.find_elements_by_xpath(\"//a[@class='IRpwTa']\")\n",
    "    for i in disc_tag:\n",
    "        description=i.text\n",
    "        glass_description.append(description)\n",
    "\n",
    "    price_tag=driver.find_elements_by_xpath(\"//div[@class='_30jeq3']\")\n",
    "    for i in price_tag:\n",
    "        price=i.text\n",
    "        glass_price.append(price)\n",
    "        \n",
    "    offer_tag=driver.find_elements_by_xpath(\"//div[@class='_3Ay6Sb']\")\n",
    "    for i in offer_tag:\n",
    "        offer=i.text\n",
    "        glass_offer.append(offer)"
   ]
  },
  {
   "cell_type": "code",
   "execution_count": 39,
   "id": "3672710b",
   "metadata": {},
   "outputs": [
    {
     "name": "stdout",
     "output_type": "stream",
     "text": [
      "120 117 120 120\n"
     ]
    }
   ],
   "source": [
    "print(len(glass_brand),len(glass_description),len(glass_price),len(glass_offer))"
   ]
  },
  {
   "cell_type": "code",
   "execution_count": 40,
   "id": "00396ae8",
   "metadata": {},
   "outputs": [
    {
     "data": {
      "text/html": [
       "<div>\n",
       "<style scoped>\n",
       "    .dataframe tbody tr th:only-of-type {\n",
       "        vertical-align: middle;\n",
       "    }\n",
       "\n",
       "    .dataframe tbody tr th {\n",
       "        vertical-align: top;\n",
       "    }\n",
       "\n",
       "    .dataframe thead th {\n",
       "        text-align: right;\n",
       "    }\n",
       "</style>\n",
       "<table border=\"1\" class=\"dataframe\">\n",
       "  <thead>\n",
       "    <tr style=\"text-align: right;\">\n",
       "      <th></th>\n",
       "      <th>NAME</th>\n",
       "      <th>DESCRIPTION</th>\n",
       "      <th>PRICE</th>\n",
       "      <th>OFFER</th>\n",
       "    </tr>\n",
       "  </thead>\n",
       "  <tbody>\n",
       "    <tr>\n",
       "      <th>0</th>\n",
       "      <td>VILLAIN</td>\n",
       "      <td>Others Wayfarer Sunglasses (Free Size)</td>\n",
       "      <td>₹522</td>\n",
       "      <td>48% off</td>\n",
       "    </tr>\n",
       "    <tr>\n",
       "      <th>1</th>\n",
       "      <td>ROZZETTA CRAFT</td>\n",
       "      <td>UV Protection, Gradient Retro Square Sunglasse...</td>\n",
       "      <td>₹349</td>\n",
       "      <td>83% off</td>\n",
       "    </tr>\n",
       "    <tr>\n",
       "      <th>2</th>\n",
       "      <td>GANSTA</td>\n",
       "      <td>UV Protection, Riding Glasses Wayfarer Sunglas...</td>\n",
       "      <td>₹198</td>\n",
       "      <td>89% off</td>\n",
       "    </tr>\n",
       "    <tr>\n",
       "      <th>3</th>\n",
       "      <td>Elligator</td>\n",
       "      <td>UV Protection Round Sunglasses (54)</td>\n",
       "      <td>₹248</td>\n",
       "      <td>90% off</td>\n",
       "    </tr>\n",
       "    <tr>\n",
       "      <th>4</th>\n",
       "      <td>SUNBEE</td>\n",
       "      <td>UV Protection, Polarized Wayfarer Sunglasses (...</td>\n",
       "      <td>₹243</td>\n",
       "      <td>81% off</td>\n",
       "    </tr>\n",
       "    <tr>\n",
       "      <th>...</th>\n",
       "      <td>...</td>\n",
       "      <td>...</td>\n",
       "      <td>...</td>\n",
       "      <td>...</td>\n",
       "    </tr>\n",
       "    <tr>\n",
       "      <th>95</th>\n",
       "      <td>VILLAIN</td>\n",
       "      <td>UV Protection Rectangular Sunglasses (Free Size)</td>\n",
       "      <td>₹1,099</td>\n",
       "      <td>37% off</td>\n",
       "    </tr>\n",
       "    <tr>\n",
       "      <th>96</th>\n",
       "      <td>kingsunglasses</td>\n",
       "      <td>by Lenskart Polarized, UV Protection Wayfarer ...</td>\n",
       "      <td>₹186</td>\n",
       "      <td>81% off</td>\n",
       "    </tr>\n",
       "    <tr>\n",
       "      <th>97</th>\n",
       "      <td>PHENOMENAL</td>\n",
       "      <td>UV Protection, Gradient Rectangular Sunglasses...</td>\n",
       "      <td>₹269</td>\n",
       "      <td>73% off</td>\n",
       "    </tr>\n",
       "    <tr>\n",
       "      <th>98</th>\n",
       "      <td>Fastrack</td>\n",
       "      <td>UV Protection Retro Square Sunglasses (Free Size)</td>\n",
       "      <td>₹607</td>\n",
       "      <td>24% off</td>\n",
       "    </tr>\n",
       "    <tr>\n",
       "      <th>99</th>\n",
       "      <td>VINCENT CHASE</td>\n",
       "      <td>UV Protection Wayfarer Sunglasses (53)</td>\n",
       "      <td>₹1,533</td>\n",
       "      <td>39% off</td>\n",
       "    </tr>\n",
       "  </tbody>\n",
       "</table>\n",
       "<p>100 rows × 4 columns</p>\n",
       "</div>"
      ],
      "text/plain": [
       "              NAME                                        DESCRIPTION   PRICE  \\\n",
       "0          VILLAIN             Others Wayfarer Sunglasses (Free Size)    ₹522   \n",
       "1   ROZZETTA CRAFT  UV Protection, Gradient Retro Square Sunglasse...    ₹349   \n",
       "2           GANSTA  UV Protection, Riding Glasses Wayfarer Sunglas...    ₹198   \n",
       "3        Elligator                UV Protection Round Sunglasses (54)    ₹248   \n",
       "4           SUNBEE  UV Protection, Polarized Wayfarer Sunglasses (...    ₹243   \n",
       "..             ...                                                ...     ...   \n",
       "95         VILLAIN   UV Protection Rectangular Sunglasses (Free Size)  ₹1,099   \n",
       "96  kingsunglasses  by Lenskart Polarized, UV Protection Wayfarer ...    ₹186   \n",
       "97      PHENOMENAL  UV Protection, Gradient Rectangular Sunglasses...    ₹269   \n",
       "98        Fastrack  UV Protection Retro Square Sunglasses (Free Size)    ₹607   \n",
       "99   VINCENT CHASE             UV Protection Wayfarer Sunglasses (53)  ₹1,533   \n",
       "\n",
       "      OFFER  \n",
       "0   48% off  \n",
       "1   83% off  \n",
       "2   89% off  \n",
       "3   90% off  \n",
       "4   81% off  \n",
       "..      ...  \n",
       "95  37% off  \n",
       "96  81% off  \n",
       "97  73% off  \n",
       "98  24% off  \n",
       "99  39% off  \n",
       "\n",
       "[100 rows x 4 columns]"
      ]
     },
     "execution_count": 40,
     "metadata": {},
     "output_type": "execute_result"
    }
   ],
   "source": [
    "glass=pd.DataFrame({})\n",
    "glass['NAME']=glass_brand[0:100]\n",
    "glass['DESCRIPTION']=glass_description[0:100]\n",
    "glass['PRICE']=glass_price[0:100]\n",
    "glass['OFFER']=glass_offer[0:100]\n",
    "glass"
   ]
  },
  {
   "cell_type": "code",
   "execution_count": 41,
   "id": "88c064e6",
   "metadata": {},
   "outputs": [],
   "source": [
    "driver.close()"
   ]
  },
  {
   "cell_type": "markdown",
   "id": "b11f7b2c",
   "metadata": {},
   "source": [
    "# 5"
   ]
  },
  {
   "cell_type": "code",
   "execution_count": 50,
   "id": "6da681eb",
   "metadata": {},
   "outputs": [],
   "source": [
    "#import libraries\n",
    "import selenium\n",
    "from selenium import webdriver\n",
    "import pandas as pd\n",
    "import warnings\n",
    "from time import sleep\n",
    "warnings.filterwarnings('ignore')\n",
    "\n",
    "driver = webdriver.Chrome(executable_path=r\"C:\\Users\\Konghot Vineeth Nair\\Desktop\\chromedriver.exe\")\n",
    "url='https://www.flipkart.com/apple-iphone-11-black-64-gb-includes- earpods-power- adapter/p/itm0f37c2240b217?pid=MOBFKCTSVZAXUHGR&lid=LSTMOBFKC TSVZAXUHGREPBFGI&marketplace'\n",
    "driver.get(url)"
   ]
  },
  {
   "cell_type": "code",
   "execution_count": 51,
   "id": "3823d50e",
   "metadata": {},
   "outputs": [],
   "source": [
    "#All review\n",
    "all_review = driver.find_element_by_xpath(\"/html/body/div[1]/div/div[3]/div[1]/div[2]/div[8]/div/div/div[5]/div/a/div/span\")\n",
    "all_review.click()"
   ]
  },
  {
   "cell_type": "code",
   "execution_count": 52,
   "id": "9820f062",
   "metadata": {},
   "outputs": [],
   "source": [
    "page_url=[]\n",
    "\n",
    "url=driver.find_elements_by_xpath(\"//nav[@class='yFHi8N']//a\")\n",
    "for i in url:\n",
    "    page_url.append(i.get_attribute('href'))\n",
    "page_url=page_url[0:13]"
   ]
  },
  {
   "cell_type": "code",
   "execution_count": 53,
   "id": "2399cad5",
   "metadata": {},
   "outputs": [],
   "source": [
    "rating=[]\n",
    "review_summary=[]\n",
    "full_review=[]\n",
    "\n",
    "for i in page_url:\n",
    "\n",
    "    rating_tags=driver.find_elements_by_xpath(\"//div[@class='_3LWZlK _1BLPMq']\")\n",
    "    for i in rating_tags:\n",
    "        rate=i.text\n",
    "        rating.append(rate)\n",
    " \n",
    "    review_tags=driver.find_elements_by_xpath(\"//p[@class='_2-N8zT']\")\n",
    "    for i in review_tags:\n",
    "        review=i.text\n",
    "        review_summary.append(review)\n",
    "\n",
    "    fullreview_tags=driver.find_elements_by_xpath(\"//div[@class='t-ZTKy']\")\n",
    "    for i in fullreview_tags:\n",
    "        fullreview=i.text\n",
    "        full_review.append(fullreview)"
   ]
  },
  {
   "cell_type": "code",
   "execution_count": 54,
   "id": "83e1639a",
   "metadata": {},
   "outputs": [
    {
     "name": "stdout",
     "output_type": "stream",
     "text": [
      "110 110 110\n"
     ]
    }
   ],
   "source": [
    "print(len(rating),len(review_summary),len(full_review))"
   ]
  },
  {
   "cell_type": "code",
   "execution_count": 55,
   "id": "35d901c5",
   "metadata": {},
   "outputs": [
    {
     "data": {
      "text/html": [
       "<div>\n",
       "<style scoped>\n",
       "    .dataframe tbody tr th:only-of-type {\n",
       "        vertical-align: middle;\n",
       "    }\n",
       "\n",
       "    .dataframe tbody tr th {\n",
       "        vertical-align: top;\n",
       "    }\n",
       "\n",
       "    .dataframe thead th {\n",
       "        text-align: right;\n",
       "    }\n",
       "</style>\n",
       "<table border=\"1\" class=\"dataframe\">\n",
       "  <thead>\n",
       "    <tr style=\"text-align: right;\">\n",
       "      <th></th>\n",
       "      <th>rating</th>\n",
       "      <th>review_summary</th>\n",
       "      <th>full_review</th>\n",
       "    </tr>\n",
       "  </thead>\n",
       "  <tbody>\n",
       "    <tr>\n",
       "      <th>0</th>\n",
       "      <td>5</td>\n",
       "      <td>Brilliant</td>\n",
       "      <td>The Best Phone for the Money\\n\\nThe iPhone 11 ...</td>\n",
       "    </tr>\n",
       "    <tr>\n",
       "      <th>1</th>\n",
       "      <td>5</td>\n",
       "      <td>Simply awesome</td>\n",
       "      <td>Really satisfied with the Product I received.....</td>\n",
       "    </tr>\n",
       "    <tr>\n",
       "      <th>2</th>\n",
       "      <td>5</td>\n",
       "      <td>Best in the market!</td>\n",
       "      <td>Great iPhone very snappy experience as apple k...</td>\n",
       "    </tr>\n",
       "    <tr>\n",
       "      <th>3</th>\n",
       "      <td>5</td>\n",
       "      <td>Perfect product!</td>\n",
       "      <td>Amazing phone with great cameras and better ba...</td>\n",
       "    </tr>\n",
       "    <tr>\n",
       "      <th>4</th>\n",
       "      <td>5</td>\n",
       "      <td>Fabulous!</td>\n",
       "      <td>This is my first iOS phone. I am very happy wi...</td>\n",
       "    </tr>\n",
       "    <tr>\n",
       "      <th>...</th>\n",
       "      <td>...</td>\n",
       "      <td>...</td>\n",
       "      <td>...</td>\n",
       "    </tr>\n",
       "    <tr>\n",
       "      <th>95</th>\n",
       "      <td>5</td>\n",
       "      <td>Worth every penny</td>\n",
       "      <td>Previously I was using one plus 3t it was a gr...</td>\n",
       "    </tr>\n",
       "    <tr>\n",
       "      <th>96</th>\n",
       "      <td>5</td>\n",
       "      <td>Great product</td>\n",
       "      <td>Amazing Powerful and Durable Gadget.\\n\\nI’m am...</td>\n",
       "    </tr>\n",
       "    <tr>\n",
       "      <th>97</th>\n",
       "      <td>5</td>\n",
       "      <td>Highly recommended</td>\n",
       "      <td>What a camera .....just awesome ..you can feel...</td>\n",
       "    </tr>\n",
       "    <tr>\n",
       "      <th>98</th>\n",
       "      <td>4</td>\n",
       "      <td>Good choice</td>\n",
       "      <td>So far it’s been an AMAZING experience coming ...</td>\n",
       "    </tr>\n",
       "    <tr>\n",
       "      <th>99</th>\n",
       "      <td>5</td>\n",
       "      <td>Worth every penny</td>\n",
       "      <td>i11 is worthy to buy, too much happy with the ...</td>\n",
       "    </tr>\n",
       "  </tbody>\n",
       "</table>\n",
       "<p>100 rows × 3 columns</p>\n",
       "</div>"
      ],
      "text/plain": [
       "   rating       review_summary  \\\n",
       "0       5            Brilliant   \n",
       "1       5       Simply awesome   \n",
       "2       5  Best in the market!   \n",
       "3       5     Perfect product!   \n",
       "4       5            Fabulous!   \n",
       "..    ...                  ...   \n",
       "95      5    Worth every penny   \n",
       "96      5        Great product   \n",
       "97      5   Highly recommended   \n",
       "98      4          Good choice   \n",
       "99      5    Worth every penny   \n",
       "\n",
       "                                          full_review  \n",
       "0   The Best Phone for the Money\\n\\nThe iPhone 11 ...  \n",
       "1   Really satisfied with the Product I received.....  \n",
       "2   Great iPhone very snappy experience as apple k...  \n",
       "3   Amazing phone with great cameras and better ba...  \n",
       "4   This is my first iOS phone. I am very happy wi...  \n",
       "..                                                ...  \n",
       "95  Previously I was using one plus 3t it was a gr...  \n",
       "96  Amazing Powerful and Durable Gadget.\\n\\nI’m am...  \n",
       "97  What a camera .....just awesome ..you can feel...  \n",
       "98  So far it’s been an AMAZING experience coming ...  \n",
       "99  i11 is worthy to buy, too much happy with the ...  \n",
       "\n",
       "[100 rows x 3 columns]"
      ]
     },
     "execution_count": 55,
     "metadata": {},
     "output_type": "execute_result"
    }
   ],
   "source": [
    "flipkartr=pd.DataFrame({})\n",
    "flipkartr['rating']=rating[0:100]\n",
    "flipkartr['review_summary']=review_summary[0:100]\n",
    "flipkartr['full_review']=full_review[0:100]\n",
    "flipkartr"
   ]
  },
  {
   "cell_type": "code",
   "execution_count": 56,
   "id": "a91b13ae",
   "metadata": {},
   "outputs": [],
   "source": [
    "driver.close()"
   ]
  },
  {
   "cell_type": "markdown",
   "id": "ed7eeca7",
   "metadata": {},
   "source": [
    "# 6"
   ]
  },
  {
   "cell_type": "code",
   "execution_count": 57,
   "id": "dbcf3103",
   "metadata": {},
   "outputs": [],
   "source": [
    "import numpy as np\n",
    "import pandas as pd\n",
    "from time import sleep\n",
    "from random import randint\n",
    "from selenium import webdriver\n",
    "import warnings\n",
    "warnings.filterwarnings('ignore')\n",
    "\n",
    "driver = webdriver.Chrome(r\"C:\\Users\\Konghot Vineeth Nair\\Desktop\\chromedriver.exe\")\n",
    "driver.get('https://www.flipkart.com')"
   ]
  },
  {
   "cell_type": "code",
   "execution_count": 58,
   "id": "c2fa7e5e",
   "metadata": {},
   "outputs": [],
   "source": [
    "search_shoe = driver.find_element_by_xpath(\"//div[@class='_3OO5Xc']/input\")\n",
    "search_shoe.send_keys(\"sneakers\") \n",
    "search_btn = driver.find_element_by_xpath(\"//button[@class='L0Z3Pu']\")\n",
    "search_btn.click()"
   ]
  },
  {
   "cell_type": "code",
   "execution_count": 59,
   "id": "f4923a3c",
   "metadata": {},
   "outputs": [],
   "source": [
    "# specifying the url of the webpage to be scraped\n",
    "url = \"https://www.flipkart.com/search?q=sneakers&otracker=search&otracker1=search&marketplace=FLIPKART&as-show=on&as=off\"\n",
    "driver.get(url)\n",
    "\n",
    "page_url=[]\n",
    "url=driver.find_elements_by_xpath(\"//nav[@class='yFHi8N']//a\")\n",
    "for i in url:\n",
    "    page_url.append(i.get_attribute('href'))\n",
    "page_url=page_url[0:5]"
   ]
  },
  {
   "cell_type": "code",
   "execution_count": 60,
   "id": "689449ce",
   "metadata": {},
   "outputs": [],
   "source": [
    "Brand=[]\n",
    "Description=[]\n",
    "Price=[]\n",
    "Discount=[] \n",
    "\n",
    "# extracting all the tags\n",
    "\n",
    "for i in page_url:\n",
    "    driver.get(i)\n",
    "    titles_brand=driver.find_elements_by_xpath(\"//div[@class='_2WkVRV']\")\n",
    "    for i in titles_brand:\n",
    "        Brand.append(i.text)\n",
    "        \n",
    "    titles_Description=driver.find_elements_by_xpath(\"//a[@class='IRpwTa']\")\n",
    "    for i in titles_Description:\n",
    "        Description.append(i.text)\n",
    "        \n",
    "    titles_Price=driver.find_elements_by_xpath(\"//div[@class='_30jeq3']\")\n",
    "    for i in titles_Price:\n",
    "        Price.append(i.text.replace(\"₹\",\"\"))\n",
    "        \n",
    "    titles_Discount=driver.find_elements_by_xpath(\"//div[@class='_3Ay6Sb']/span\")\n",
    "    for i in titles_Discount:\n",
    "        Discount.append(i.text.replace(\"% off\",\"\"))"
   ]
  },
  {
   "cell_type": "code",
   "execution_count": 61,
   "id": "a85a2d14",
   "metadata": {},
   "outputs": [
    {
     "name": "stdout",
     "output_type": "stream",
     "text": [
      "200 138 200 199\n"
     ]
    }
   ],
   "source": [
    "print(len(Brand),len(Description),len(Price),len(Discount))"
   ]
  },
  {
   "cell_type": "code",
   "execution_count": 62,
   "id": "b6a8d89e",
   "metadata": {},
   "outputs": [
    {
     "data": {
      "text/html": [
       "<div>\n",
       "<style scoped>\n",
       "    .dataframe tbody tr th:only-of-type {\n",
       "        vertical-align: middle;\n",
       "    }\n",
       "\n",
       "    .dataframe tbody tr th {\n",
       "        vertical-align: top;\n",
       "    }\n",
       "\n",
       "    .dataframe thead th {\n",
       "        text-align: right;\n",
       "    }\n",
       "</style>\n",
       "<table border=\"1\" class=\"dataframe\">\n",
       "  <thead>\n",
       "    <tr style=\"text-align: right;\">\n",
       "      <th></th>\n",
       "      <th>Brand</th>\n",
       "      <th>Product Description</th>\n",
       "      <th>Price-in ₹</th>\n",
       "      <th>Discount-in %</th>\n",
       "    </tr>\n",
       "  </thead>\n",
       "  <tbody>\n",
       "    <tr>\n",
       "      <th>0</th>\n",
       "      <td>BLANCCY</td>\n",
       "      <td>Modern Trendy Sneakers Shoes Sneakers For Men</td>\n",
       "      <td>449</td>\n",
       "      <td>55</td>\n",
       "    </tr>\n",
       "    <tr>\n",
       "      <th>1</th>\n",
       "      <td>BOOYO</td>\n",
       "      <td>Combo Pack Of 4 Casual Shoes Loafer Shoes Snea...</td>\n",
       "      <td>455</td>\n",
       "      <td>74</td>\n",
       "    </tr>\n",
       "    <tr>\n",
       "      <th>2</th>\n",
       "      <td>Elevarse</td>\n",
       "      <td>Sneakers For Men</td>\n",
       "      <td>349</td>\n",
       "      <td>65</td>\n",
       "    </tr>\n",
       "    <tr>\n",
       "      <th>3</th>\n",
       "      <td>BRUTON</td>\n",
       "      <td>Classy Stylish Sneakers Sneakers For Women</td>\n",
       "      <td>259</td>\n",
       "      <td>80</td>\n",
       "    </tr>\n",
       "    <tr>\n",
       "      <th>4</th>\n",
       "      <td>BRUTON</td>\n",
       "      <td>Combo Pack Of 2 Latest Stylish Casual Shoes fo...</td>\n",
       "      <td>499</td>\n",
       "      <td>85</td>\n",
       "    </tr>\n",
       "    <tr>\n",
       "      <th>...</th>\n",
       "      <td>...</td>\n",
       "      <td>...</td>\n",
       "      <td>...</td>\n",
       "      <td>...</td>\n",
       "    </tr>\n",
       "    <tr>\n",
       "      <th>95</th>\n",
       "      <td>kcandy</td>\n",
       "      <td>Sneakers For Women</td>\n",
       "      <td>182</td>\n",
       "      <td>55</td>\n",
       "    </tr>\n",
       "    <tr>\n",
       "      <th>96</th>\n",
       "      <td>PUMA</td>\n",
       "      <td>Sneakers For Women</td>\n",
       "      <td>1,452</td>\n",
       "      <td>82</td>\n",
       "    </tr>\n",
       "    <tr>\n",
       "      <th>97</th>\n",
       "      <td>BRUTON</td>\n",
       "      <td>Sneakers For Men</td>\n",
       "      <td>449</td>\n",
       "      <td>57</td>\n",
       "    </tr>\n",
       "    <tr>\n",
       "      <th>98</th>\n",
       "      <td>Robbie jones</td>\n",
       "      <td>Sneakers For Men</td>\n",
       "      <td>428</td>\n",
       "      <td>36</td>\n",
       "    </tr>\n",
       "    <tr>\n",
       "      <th>99</th>\n",
       "      <td>RapidBox</td>\n",
       "      <td>Perfect Stylish Casual Shoes For Girls &amp; Women...</td>\n",
       "      <td>630</td>\n",
       "      <td>15</td>\n",
       "    </tr>\n",
       "  </tbody>\n",
       "</table>\n",
       "<p>100 rows × 4 columns</p>\n",
       "</div>"
      ],
      "text/plain": [
       "           Brand                                Product Description  \\\n",
       "0        BLANCCY      Modern Trendy Sneakers Shoes Sneakers For Men   \n",
       "1          BOOYO  Combo Pack Of 4 Casual Shoes Loafer Shoes Snea...   \n",
       "2       Elevarse                                   Sneakers For Men   \n",
       "3         BRUTON         Classy Stylish Sneakers Sneakers For Women   \n",
       "4         BRUTON  Combo Pack Of 2 Latest Stylish Casual Shoes fo...   \n",
       "..           ...                                                ...   \n",
       "95        kcandy                                 Sneakers For Women   \n",
       "96          PUMA                                 Sneakers For Women   \n",
       "97        BRUTON                                   Sneakers For Men   \n",
       "98  Robbie jones                                   Sneakers For Men   \n",
       "99      RapidBox  Perfect Stylish Casual Shoes For Girls & Women...   \n",
       "\n",
       "   Price-in ₹ Discount-in %  \n",
       "0         449            55  \n",
       "1         455            74  \n",
       "2         349            65  \n",
       "3         259            80  \n",
       "4         499            85  \n",
       "..        ...           ...  \n",
       "95        182            55  \n",
       "96      1,452            82  \n",
       "97        449            57  \n",
       "98        428            36  \n",
       "99        630            15  \n",
       "\n",
       "[100 rows x 4 columns]"
      ]
     },
     "execution_count": 62,
     "metadata": {},
     "output_type": "execute_result"
    }
   ],
   "source": [
    "flipkart=pd.DataFrame({})\n",
    "flipkart['Brand']=Brand[0:100]\n",
    "flipkart['Product Description']=Description[0:100]\n",
    "flipkart['Price-in ₹']=Price[0:100]\n",
    "flipkart['Discount-in %']=Discount[0:100]\n",
    "flipkart"
   ]
  },
  {
   "cell_type": "code",
   "execution_count": 63,
   "id": "b6ea432a",
   "metadata": {},
   "outputs": [],
   "source": [
    "driver.close()"
   ]
  },
  {
   "cell_type": "markdown",
   "id": "5950fb09",
   "metadata": {},
   "source": [
    "# 7"
   ]
  },
  {
   "cell_type": "code",
   "execution_count": 64,
   "id": "9db065d8",
   "metadata": {},
   "outputs": [],
   "source": [
    "#import libraries\n",
    "import selenium\n",
    "from selenium import webdriver\n",
    "import pandas as pd\n",
    "from time import sleep\n",
    "from random import randint\n",
    "import warnings\n",
    "warnings.filterwarnings('ignore')\n",
    "\n",
    "driver = webdriver.Chrome(executable_path=r\"C:\\Users\\Konghot Vineeth Nair\\Desktop\\chromedriver.exe\")\n",
    "driver.get(\"https://www.myntra.com/shoes\")"
   ]
  },
  {
   "cell_type": "code",
   "execution_count": 65,
   "id": "b1c316fe",
   "metadata": {},
   "outputs": [],
   "source": [
    "price = driver.find_element_by_xpath(\"/html/body/div[2]/div/div[1]/main/div[3]/div[1]/section/div/div[5]/ul/li[2]/label\") \n",
    "price.click()"
   ]
  },
  {
   "cell_type": "code",
   "execution_count": 66,
   "id": "18c0800a",
   "metadata": {},
   "outputs": [],
   "source": [
    "color = driver.find_element_by_xpath(\"//html/body/div[2]/div/div[1]/main/div[3]/div[1]/section/div/div[6]/ul/li[1]/label\") \n",
    "color.click()"
   ]
  },
  {
   "cell_type": "code",
   "execution_count": 67,
   "id": "b7c883f8",
   "metadata": {},
   "outputs": [],
   "source": [
    "url = \"https://www.myntra.com/shoes?f=Color%3ABlack_36454f&rf=Price%3A7149.0_14099.0_7149.0%20TO%2014099.0\"\n",
    "driver.get(url)\n",
    "\n",
    "page_url=[]\n",
    "\n",
    "url=driver.find_elements_by_xpath(\"//li[@class='pagination-number']//a\")\n",
    "for i in url:\n",
    "    page_url.append(i.get_attribute('href'))\n",
    "page_url=page_url[0:2]"
   ]
  },
  {
   "cell_type": "code",
   "execution_count": 68,
   "id": "c2530d14",
   "metadata": {},
   "outputs": [],
   "source": [
    "Brand=[]\n",
    "Description=[]\n",
    "Price=[]\n",
    "\n",
    "# extracting all the tags\n",
    "\n",
    "for i in page_url:\n",
    "    driver.get(i)\n",
    "    titles_brand=driver.find_elements_by_xpath(\"//h3[@class='product-brand']\")\n",
    "    for i in titles_brand:\n",
    "        Brand.append(i.text)\n",
    "    \n",
    "    titles_Description=driver.find_elements_by_xpath(\"//h4[@class='product-product']\")\n",
    "    for i in titles_Description:\n",
    "        Description.append(i.text)\n",
    "        \n",
    "    titles_Price=driver.find_elements_by_xpath(\"//div[@class='product-price']\")\n",
    "    for i in titles_Price:\n",
    "        Price.append(i.text)"
   ]
  },
  {
   "cell_type": "code",
   "execution_count": 69,
   "id": "37202175",
   "metadata": {},
   "outputs": [
    {
     "data": {
      "text/html": [
       "<div>\n",
       "<style scoped>\n",
       "    .dataframe tbody tr th:only-of-type {\n",
       "        vertical-align: middle;\n",
       "    }\n",
       "\n",
       "    .dataframe tbody tr th {\n",
       "        vertical-align: top;\n",
       "    }\n",
       "\n",
       "    .dataframe thead th {\n",
       "        text-align: right;\n",
       "    }\n",
       "</style>\n",
       "<table border=\"1\" class=\"dataframe\">\n",
       "  <thead>\n",
       "    <tr style=\"text-align: right;\">\n",
       "      <th></th>\n",
       "      <th>Brand</th>\n",
       "      <th>Shoe Description</th>\n",
       "      <th>Price</th>\n",
       "    </tr>\n",
       "  </thead>\n",
       "  <tbody>\n",
       "    <tr>\n",
       "      <th>0</th>\n",
       "      <td>New Balance</td>\n",
       "      <td>Women Woven Running Shoes</td>\n",
       "      <td>Rs. 7149Rs. 12999(45% OFF)</td>\n",
       "    </tr>\n",
       "    <tr>\n",
       "      <th>1</th>\n",
       "      <td>Columbia</td>\n",
       "      <td>Men FACET OUTDRY Trekking Shoe</td>\n",
       "      <td>Rs. 12999</td>\n",
       "    </tr>\n",
       "    <tr>\n",
       "      <th>2</th>\n",
       "      <td>Columbia</td>\n",
       "      <td>PEAKFREAK OUTDRY Trekking Shoe</td>\n",
       "      <td>Rs. 9999</td>\n",
       "    </tr>\n",
       "    <tr>\n",
       "      <th>3</th>\n",
       "      <td>J.FONTINI</td>\n",
       "      <td>Men Textured Leather Loafers</td>\n",
       "      <td>Rs. 7990</td>\n",
       "    </tr>\n",
       "    <tr>\n",
       "      <th>4</th>\n",
       "      <td>J.FONTINI</td>\n",
       "      <td>Men Textured Leather Loafers</td>\n",
       "      <td>Rs. 8490</td>\n",
       "    </tr>\n",
       "    <tr>\n",
       "      <th>...</th>\n",
       "      <td>...</td>\n",
       "      <td>...</td>\n",
       "      <td>...</td>\n",
       "    </tr>\n",
       "    <tr>\n",
       "      <th>95</th>\n",
       "      <td>Saint G</td>\n",
       "      <td>Leather High-Top Heeled Boots</td>\n",
       "      <td>Rs. 9730Rs. 13900(30% OFF)</td>\n",
       "    </tr>\n",
       "    <tr>\n",
       "      <th>96</th>\n",
       "      <td>Pavers England</td>\n",
       "      <td>Men Solid Leather Formal Loafers</td>\n",
       "      <td>Rs. 7999</td>\n",
       "    </tr>\n",
       "    <tr>\n",
       "      <th>97</th>\n",
       "      <td>ADIDAS</td>\n",
       "      <td>Men Supernova + Running Shoes</td>\n",
       "      <td>Rs. 10199Rs. 11999(15% OFF)</td>\n",
       "    </tr>\n",
       "    <tr>\n",
       "      <th>98</th>\n",
       "      <td>ADIDAS Originals</td>\n",
       "      <td>Unisex Superstar Slip on</td>\n",
       "      <td>Rs. 7999</td>\n",
       "    </tr>\n",
       "    <tr>\n",
       "      <th>99</th>\n",
       "      <td>Kenkoh</td>\n",
       "      <td>Women Open Toe Flats</td>\n",
       "      <td>Rs. 9690</td>\n",
       "    </tr>\n",
       "  </tbody>\n",
       "</table>\n",
       "<p>100 rows × 3 columns</p>\n",
       "</div>"
      ],
      "text/plain": [
       "               Brand                  Shoe Description  \\\n",
       "0        New Balance         Women Woven Running Shoes   \n",
       "1           Columbia    Men FACET OUTDRY Trekking Shoe   \n",
       "2           Columbia    PEAKFREAK OUTDRY Trekking Shoe   \n",
       "3          J.FONTINI      Men Textured Leather Loafers   \n",
       "4          J.FONTINI      Men Textured Leather Loafers   \n",
       "..               ...                               ...   \n",
       "95           Saint G     Leather High-Top Heeled Boots   \n",
       "96    Pavers England  Men Solid Leather Formal Loafers   \n",
       "97            ADIDAS     Men Supernova + Running Shoes   \n",
       "98  ADIDAS Originals          Unisex Superstar Slip on   \n",
       "99            Kenkoh              Women Open Toe Flats   \n",
       "\n",
       "                          Price  \n",
       "0    Rs. 7149Rs. 12999(45% OFF)  \n",
       "1                     Rs. 12999  \n",
       "2                      Rs. 9999  \n",
       "3                      Rs. 7990  \n",
       "4                      Rs. 8490  \n",
       "..                          ...  \n",
       "95   Rs. 9730Rs. 13900(30% OFF)  \n",
       "96                     Rs. 7999  \n",
       "97  Rs. 10199Rs. 11999(15% OFF)  \n",
       "98                     Rs. 7999  \n",
       "99                     Rs. 9690  \n",
       "\n",
       "[100 rows x 3 columns]"
      ]
     },
     "execution_count": 69,
     "metadata": {},
     "output_type": "execute_result"
    }
   ],
   "source": [
    "Shoes =pd.DataFrame({})\n",
    "Shoes['Brand']=Brand[0:100]\n",
    "Shoes['Shoe Description']=Description[0:100]\n",
    "Shoes['Price']=Price[0:100]\n",
    "Shoes"
   ]
  },
  {
   "cell_type": "code",
   "execution_count": 70,
   "id": "ddc5b733",
   "metadata": {},
   "outputs": [],
   "source": [
    "driver.close()"
   ]
  },
  {
   "cell_type": "markdown",
   "id": "15fa0de9",
   "metadata": {},
   "source": [
    "# 8"
   ]
  },
  {
   "cell_type": "code",
   "execution_count": 71,
   "id": "7f2c21ef",
   "metadata": {},
   "outputs": [],
   "source": [
    "#import libraries\n",
    "import selenium\n",
    "from selenium import webdriver\n",
    "import pandas as pd\n",
    "from time import sleep\n",
    "from random import randint\n",
    "import warnings\n",
    "warnings.filterwarnings('ignore')\n",
    "\n",
    "driver = webdriver.Chrome(executable_path=r\"C:\\Users\\Konghot Vineeth Nair\\Desktop\\chromedriver.exe\")\n",
    "driver.get(\"https://www.amazon.in/\")"
   ]
  },
  {
   "cell_type": "code",
   "execution_count": 72,
   "id": "acf07b4b",
   "metadata": {},
   "outputs": [],
   "source": [
    "search_product = driver.find_element_by_xpath(\"/html/body/div[1]/header/div/div[1]/div[2]/div/form/div[2]/div[1]/input\")\n",
    "search_product.send_keys(\"laptop\")\n",
    "search_btn = driver.find_element_by_xpath(\"/html/body/div[1]/header/div/div[1]/div[2]/div/form/div[3]/div/span/input\")\n",
    "search_btn.click()"
   ]
  },
  {
   "cell_type": "code",
   "execution_count": 73,
   "id": "fd09d994",
   "metadata": {},
   "outputs": [],
   "source": [
    "i7_clk=driver.find_elements_by_xpath(\"//span[@class='a-size-base a-color-base']\")\n",
    "for i in i7_clk:\n",
    "    if i.text == 'Intel Core i7':   \n",
    "        i.click() # Checking the checkbox to apply filter on the laptop\n",
    "        break "
   ]
  },
  {
   "cell_type": "code",
   "execution_count": 74,
   "id": "cb9fa0a0",
   "metadata": {},
   "outputs": [],
   "source": [
    "i9_clk=driver.find_elements_by_xpath(\"//span[@class='a-size-base a-color-base']\")\n",
    "for i in i9_clk:\n",
    "    if i.text == 'Intel Core i9':   \n",
    "        i.click() # Checking the checkbox to apply filter on the laptop\n",
    "        break "
   ]
  },
  {
   "cell_type": "code",
   "execution_count": 75,
   "id": "451f9b04",
   "metadata": {},
   "outputs": [],
   "source": [
    "url = \"https://www.amazon.in/s?k=laptop&rh=n%3A1375424031%2Cp_n_feature_thirteen_browse-bin%3A12598163031&dc&crid=21IOHOWP8A93P&qid=1645544620&rnid=12598141031&sprefix=laptop%2Caps%2C1074&ref=sr_nr_p_n_feature_thirteen_browse-bin_12\"\n",
    "\n",
    "driver.get(url)"
   ]
  },
  {
   "cell_type": "code",
   "execution_count": 76,
   "id": "77a4b437",
   "metadata": {},
   "outputs": [],
   "source": [
    "Title=[]\n",
    "Rating=[]\n",
    "Price=[]\n",
    "\n",
    "# extracting all the tags\n",
    "\n",
    "titles=driver.find_elements_by_xpath(\"//h2[@class='a-size-mini a-spacing-none a-color-base s-line-clamp-2']\")\n",
    "for i in titles:\n",
    "    Title.append(i.text)\n",
    "    \n",
    "titles_rat=driver.find_elements_by_xpath(\"//div[@class='a-row a-size-small']/span\")\n",
    "for i in titles_rat:\n",
    "    Rating.append(i.get_attribute(\"aria-label\"))\n",
    "        \n",
    "titles_Price=driver.find_elements_by_xpath(\"//span[@class='a-price']\")\n",
    "for i in titles_Price:\n",
    "    Price.append(i.text[1:])"
   ]
  },
  {
   "cell_type": "code",
   "execution_count": 77,
   "id": "57d8e71b",
   "metadata": {},
   "outputs": [],
   "source": [
    "rating=[]\n",
    "for i in range(0,len(Rating)):\n",
    "    if i == 0 or  i/2 == i//2:\n",
    "        rating.append(Rating[i][0:3])"
   ]
  },
  {
   "cell_type": "code",
   "execution_count": 78,
   "id": "05223d86",
   "metadata": {},
   "outputs": [
    {
     "name": "stdout",
     "output_type": "stream",
     "text": [
      "30 25 29\n"
     ]
    }
   ],
   "source": [
    "print(len(Title),len(rating),len(Price))"
   ]
  },
  {
   "cell_type": "code",
   "execution_count": 79,
   "id": "e8b87adf",
   "metadata": {},
   "outputs": [
    {
     "data": {
      "text/html": [
       "<div>\n",
       "<style scoped>\n",
       "    .dataframe tbody tr th:only-of-type {\n",
       "        vertical-align: middle;\n",
       "    }\n",
       "\n",
       "    .dataframe tbody tr th {\n",
       "        vertical-align: top;\n",
       "    }\n",
       "\n",
       "    .dataframe thead th {\n",
       "        text-align: right;\n",
       "    }\n",
       "</style>\n",
       "<table border=\"1\" class=\"dataframe\">\n",
       "  <thead>\n",
       "    <tr style=\"text-align: right;\">\n",
       "      <th></th>\n",
       "      <th>Title</th>\n",
       "      <th>Rating</th>\n",
       "      <th>Price</th>\n",
       "    </tr>\n",
       "  </thead>\n",
       "  <tbody>\n",
       "    <tr>\n",
       "      <th>0</th>\n",
       "      <td>LG Gram 16 inches Intel Evo 11th Gen Core i7 U...</td>\n",
       "      <td>4.4</td>\n",
       "      <td>92,999</td>\n",
       "    </tr>\n",
       "    <tr>\n",
       "      <th>1</th>\n",
       "      <td>Mi Notebook Ultra 3.2K resolution display Inte...</td>\n",
       "      <td>4.3</td>\n",
       "      <td>77,999</td>\n",
       "    </tr>\n",
       "    <tr>\n",
       "      <th>2</th>\n",
       "      <td>ASUS VivoBook 14 (2021), 14-inch (35.56 cms) F...</td>\n",
       "      <td>4.3</td>\n",
       "      <td>59,990</td>\n",
       "    </tr>\n",
       "    <tr>\n",
       "      <th>3</th>\n",
       "      <td>HP Pavilion x360 11th Gen Intel Core i7 14 inc...</td>\n",
       "      <td>4.6</td>\n",
       "      <td>86,990</td>\n",
       "    </tr>\n",
       "    <tr>\n",
       "      <th>4</th>\n",
       "      <td>ASUS TUF Gaming F15 (2021) 15.6-inch (39.62 cm...</td>\n",
       "      <td>4.3</td>\n",
       "      <td>96,990</td>\n",
       "    </tr>\n",
       "    <tr>\n",
       "      <th>5</th>\n",
       "      <td>Dell 15 (2021) i7-11390H, 16GB, 1TB SSD, Win 1...</td>\n",
       "      <td>4.2</td>\n",
       "      <td>89,990</td>\n",
       "    </tr>\n",
       "    <tr>\n",
       "      <th>6</th>\n",
       "      <td>Acer Predator Helios 300 Gaming Laptop 11th Ge...</td>\n",
       "      <td>4.5</td>\n",
       "      <td>1,39,413</td>\n",
       "    </tr>\n",
       "    <tr>\n",
       "      <th>7</th>\n",
       "      <td>Mi Notebook Horizon Edition 14 Intel Core i7-1...</td>\n",
       "      <td>4.1</td>\n",
       "      <td>57,990</td>\n",
       "    </tr>\n",
       "    <tr>\n",
       "      <th>8</th>\n",
       "      <td>MSI GF75 Thin Gaming, Intel Core i7-10750H, 44...</td>\n",
       "      <td>4.4</td>\n",
       "      <td>70,000</td>\n",
       "    </tr>\n",
       "    <tr>\n",
       "      <th>9</th>\n",
       "      <td>Acer Nitro 5 11th Gen Intel Core i5-11400H 15....</td>\n",
       "      <td>4.0</td>\n",
       "      <td>65,990</td>\n",
       "    </tr>\n",
       "  </tbody>\n",
       "</table>\n",
       "</div>"
      ],
      "text/plain": [
       "                                               Title Rating     Price\n",
       "0  LG Gram 16 inches Intel Evo 11th Gen Core i7 U...    4.4    92,999\n",
       "1  Mi Notebook Ultra 3.2K resolution display Inte...    4.3    77,999\n",
       "2  ASUS VivoBook 14 (2021), 14-inch (35.56 cms) F...    4.3    59,990\n",
       "3  HP Pavilion x360 11th Gen Intel Core i7 14 inc...    4.6    86,990\n",
       "4  ASUS TUF Gaming F15 (2021) 15.6-inch (39.62 cm...    4.3    96,990\n",
       "5  Dell 15 (2021) i7-11390H, 16GB, 1TB SSD, Win 1...    4.2    89,990\n",
       "6  Acer Predator Helios 300 Gaming Laptop 11th Ge...    4.5  1,39,413\n",
       "7  Mi Notebook Horizon Edition 14 Intel Core i7-1...    4.1    57,990\n",
       "8  MSI GF75 Thin Gaming, Intel Core i7-10750H, 44...    4.4    70,000\n",
       "9  Acer Nitro 5 11th Gen Intel Core i5-11400H 15....    4.0    65,990"
      ]
     },
     "execution_count": 79,
     "metadata": {},
     "output_type": "execute_result"
    }
   ],
   "source": [
    "amazon =pd.DataFrame({})\n",
    "amazon['Title']=Title[0:10]\n",
    "amazon['Rating']=rating[0:10]\n",
    "amazon['Price']=Price[0:10]\n",
    "amazon"
   ]
  },
  {
   "cell_type": "code",
   "execution_count": 80,
   "id": "906f1b46",
   "metadata": {},
   "outputs": [],
   "source": [
    "driver.close()"
   ]
  },
  {
   "cell_type": "markdown",
   "id": "912b34cd",
   "metadata": {},
   "source": [
    "# 9"
   ]
  },
  {
   "cell_type": "code",
   "execution_count": 92,
   "id": "8bfe9494",
   "metadata": {},
   "outputs": [],
   "source": [
    "#import libraries\n",
    "import selenium\n",
    "from selenium import webdriver\n",
    "import pandas as pd\n",
    "from time import sleep\n",
    "from random import randint\n",
    "import warnings\n",
    "warnings.filterwarnings('ignore')\n",
    "\n",
    "driver = webdriver.Chrome(executable_path=r\"C:\\Users\\Konghot Vineeth Nair\\Desktop\\chromedriver.exe\")\n",
    "driver.get(\"https://www.ambitionbox.com/\")"
   ]
  },
  {
   "cell_type": "code",
   "execution_count": 93,
   "id": "d2f3c0b5",
   "metadata": {},
   "outputs": [],
   "source": [
    "#Job selection\n",
    "job = driver.find_element_by_xpath(\"/html/body/div[1]/nav/nav/a[6]\")\n",
    "job.click()"
   ]
  },
  {
   "cell_type": "code",
   "execution_count": 94,
   "id": "d445344c",
   "metadata": {},
   "outputs": [],
   "source": [
    "#Search\n",
    "search_title = driver.find_element_by_xpath(\"//span[@class='twitter-typeahead']/input\")\n",
    "search_title.send_keys(\"Data Scientist\")\n",
    "\n",
    "search_btn = driver.find_element_by_xpath(\"//button[@class='ab_btn search-btn round']\")\n",
    "search_btn.click()"
   ]
  },
  {
   "cell_type": "code",
   "execution_count": 96,
   "id": "d38adafa",
   "metadata": {},
   "outputs": [],
   "source": [
    "#location\n",
    "place = driver.find_element_by_xpath(\"/html/body/div/div/div/div[2]/div[2]/div[1]/div/div/div/div[2]/div[1]/i\") # Location dropdown\n",
    "place.click()    \n",
    "search_loc = driver.find_element_by_xpath(\"/html/body/div/div/div/div[2]/div[2]/div[1]/div/div/div/div[2]/div[2]/div/div[2]/input\")\n",
    "search_loc.send_keys(\"noida\")\n",
    "search_loc1 = driver.find_element_by_xpath(\"/html/body/div/div/div/div[2]/div[2]/div[1]/div/div/div/div[2]/div[2]/div/div[3]/div[1]/div[1]/div/label\")\n",
    "search_loc1.click()"
   ]
  },
  {
   "cell_type": "code",
   "execution_count": 97,
   "id": "e6182975",
   "metadata": {},
   "outputs": [],
   "source": [
    "#creating empty list\n",
    "comp_name = []\n",
    "job_post = []\n",
    "rating = []\n",
    "\n",
    "company=driver.find_elements_by_xpath(\"//div[@class='company-info']\")\n",
    "for i in company:\n",
    "    comp_name.append(i.text.split(\"\\n\")[0])\n",
    "    rating.append(i.text.split(\"\\n\")[1])\n",
    "    \n",
    "posted=driver.find_elements_by_xpath(\"//span[@class='body-small-l']\")\n",
    "for i in posted:\n",
    "    job_post.append(i.text)\n",
    "\n",
    "posted=[]\n",
    "for i in range(0,len(job_post)):\n",
    "    if i == 0 or  i/2 == i//2:\n",
    "        posted.append(job_post[i])"
   ]
  },
  {
   "cell_type": "code",
   "execution_count": 98,
   "id": "361c2d0d",
   "metadata": {},
   "outputs": [
    {
     "data": {
      "text/html": [
       "<div>\n",
       "<style scoped>\n",
       "    .dataframe tbody tr th:only-of-type {\n",
       "        vertical-align: middle;\n",
       "    }\n",
       "\n",
       "    .dataframe tbody tr th {\n",
       "        vertical-align: top;\n",
       "    }\n",
       "\n",
       "    .dataframe thead th {\n",
       "        text-align: right;\n",
       "    }\n",
       "</style>\n",
       "<table border=\"1\" class=\"dataframe\">\n",
       "  <thead>\n",
       "    <tr style=\"text-align: right;\">\n",
       "      <th></th>\n",
       "      <th>Company_name</th>\n",
       "      <th>Job Posted</th>\n",
       "      <th>Rating</th>\n",
       "    </tr>\n",
       "  </thead>\n",
       "  <tbody>\n",
       "    <tr>\n",
       "      <th>0</th>\n",
       "      <td>Walmart Labs</td>\n",
       "      <td>1d ago</td>\n",
       "      <td>4.1</td>\n",
       "    </tr>\n",
       "    <tr>\n",
       "      <th>1</th>\n",
       "      <td>Walmart Labs</td>\n",
       "      <td>4d ago</td>\n",
       "      <td>4.1</td>\n",
       "    </tr>\n",
       "    <tr>\n",
       "      <th>2</th>\n",
       "      <td>IBM India Pvt. Limited</td>\n",
       "      <td>4d ago</td>\n",
       "      <td>4.1</td>\n",
       "    </tr>\n",
       "    <tr>\n",
       "      <th>3</th>\n",
       "      <td>IBM India Pvt. Limited</td>\n",
       "      <td>4d ago</td>\n",
       "      <td>4.1</td>\n",
       "    </tr>\n",
       "    <tr>\n",
       "      <th>4</th>\n",
       "      <td>JP Morgan Chase</td>\n",
       "      <td>3d ago</td>\n",
       "      <td>4.1</td>\n",
       "    </tr>\n",
       "    <tr>\n",
       "      <th>5</th>\n",
       "      <td>IBM India Pvt. Limited</td>\n",
       "      <td>5d ago</td>\n",
       "      <td>4.1</td>\n",
       "    </tr>\n",
       "    <tr>\n",
       "      <th>6</th>\n",
       "      <td>IBM India Pvt. Limited</td>\n",
       "      <td>5d ago</td>\n",
       "      <td>4.1</td>\n",
       "    </tr>\n",
       "    <tr>\n",
       "      <th>7</th>\n",
       "      <td>Intel Technology India Pvt Ltd</td>\n",
       "      <td>7d ago</td>\n",
       "      <td>4.3</td>\n",
       "    </tr>\n",
       "    <tr>\n",
       "      <th>8</th>\n",
       "      <td>IBM India Pvt. Limited</td>\n",
       "      <td>6d ago</td>\n",
       "      <td>4.1</td>\n",
       "    </tr>\n",
       "    <tr>\n",
       "      <th>9</th>\n",
       "      <td>IBM India Pvt. Limited</td>\n",
       "      <td>6d ago</td>\n",
       "      <td>4.1</td>\n",
       "    </tr>\n",
       "  </tbody>\n",
       "</table>\n",
       "</div>"
      ],
      "text/plain": [
       "                     Company_name Job Posted Rating\n",
       "0                    Walmart Labs     1d ago    4.1\n",
       "1                    Walmart Labs     4d ago    4.1\n",
       "2          IBM India Pvt. Limited     4d ago    4.1\n",
       "3          IBM India Pvt. Limited     4d ago    4.1\n",
       "4                 JP Morgan Chase     3d ago    4.1\n",
       "5          IBM India Pvt. Limited     5d ago    4.1\n",
       "6          IBM India Pvt. Limited     5d ago    4.1\n",
       "7  Intel Technology India Pvt Ltd     7d ago    4.3\n",
       "8          IBM India Pvt. Limited     6d ago    4.1\n",
       "9          IBM India Pvt. Limited     6d ago    4.1"
      ]
     },
     "execution_count": 98,
     "metadata": {},
     "output_type": "execute_result"
    }
   ],
   "source": [
    "ambition = pd.DataFrame({})\n",
    "ambition[\"Company_name\"] = comp_name[1:]\n",
    "ambition[\"Job Posted\"] = posted\n",
    "ambition[\"Rating\"] = rating[1:]\n",
    "ambition"
   ]
  },
  {
   "cell_type": "code",
   "execution_count": 99,
   "id": "4104dd18",
   "metadata": {},
   "outputs": [],
   "source": [
    "driver.close()"
   ]
  },
  {
   "cell_type": "markdown",
   "id": "5e85be06",
   "metadata": {},
   "source": [
    "# 10"
   ]
  },
  {
   "cell_type": "code",
   "execution_count": 100,
   "id": "9271a85c",
   "metadata": {},
   "outputs": [],
   "source": [
    "#import libraries\n",
    "import selenium\n",
    "from selenium import webdriver\n",
    "import pandas as pd\n",
    "from time import sleep\n",
    "from random import randint\n",
    "import warnings\n",
    "warnings.filterwarnings('ignore')\n",
    "\n",
    "driver = webdriver.Chrome(executable_path=r\"C:\\Users\\Konghot Vineeth Nair\\Desktop\\chromedriver.exe\")\n",
    "driver.get(\"https://www.ambitionbox.com/\")"
   ]
  },
  {
   "cell_type": "code",
   "execution_count": 101,
   "id": "773ecd70",
   "metadata": {},
   "outputs": [],
   "source": [
    "#salaries option selection\n",
    "salary_option = driver.find_element_by_xpath(\"/html/body/div[1]/nav/nav/a[4]\")\n",
    "salary_option.click()"
   ]
  },
  {
   "cell_type": "code",
   "execution_count": 102,
   "id": "76c0b809",
   "metadata": {},
   "outputs": [],
   "source": [
    "#Search Data Scientist”\n",
    "search_title = driver.find_element_by_xpath(\"/html/body/div/div/div/div[2]/div/div/div/div[1]/span/input\")\n",
    "search_title.send_keys(\"Data Scientist\")\n",
    "clk=driver.find_elements_by_xpath(\"//div[@class='suggestion_wrap tt-suggestion tt-selectable']\")\n",
    "for i in clk:\n",
    "    if i.text == 'Data Scientist':   \n",
    "        i.click()\n",
    "        break "
   ]
  },
  {
   "cell_type": "code",
   "execution_count": 103,
   "id": "93a833bc",
   "metadata": {},
   "outputs": [],
   "source": [
    "name = []\n",
    "salary_record = []\n",
    "avg_salary = []\n",
    "min_salary = []\n",
    "max_salary = []\n",
    "exp = []\n",
    "\n",
    "company=driver.find_elements_by_xpath(\"//div[@class='company-info']\")\n",
    "for i in company:\n",
    "    name.append(i.text.split(\"\\n\")[0])                             \n",
    "    salary_record.append(i.text.replace(\"based on\", \" \").replace(\"salaries\",\"\").split(\"\\n\")[1:2]) \n",
    "    exp.append(i.text.replace(\"yrs exp\",\"\").replace(\"yr exp\",\"\").split(\"\\n\")[-1])                \n",
    "    \n",
    "average_salary=driver.find_elements_by_xpath(\"//div[@class='average-indicator-wrapper']\")\n",
    "for i in average_salary:\n",
    "    avg_salary.append(i.text.replace(\"₹\",\"\").replace(\"L\",\"\"))           \n",
    "\n",
    "salary=driver.find_elements_by_xpath(\"//div[@class='salary-values']\")\n",
    "for i in salary:\n",
    "    min_salary.append(i.text.replace(\"₹\",\"\").replace(\"L\",\"\").split(\"\\n\")[0]) \n",
    "    max_salary.append(i.text.replace(\"₹\",\"\").replace(\"L\",\"\").split(\"\\n\")[1]) "
   ]
  },
  {
   "cell_type": "code",
   "execution_count": 104,
   "id": "deca39fe",
   "metadata": {},
   "outputs": [
    {
     "data": {
      "text/html": [
       "<div>\n",
       "<style scoped>\n",
       "    .dataframe tbody tr th:only-of-type {\n",
       "        vertical-align: middle;\n",
       "    }\n",
       "\n",
       "    .dataframe tbody tr th {\n",
       "        vertical-align: top;\n",
       "    }\n",
       "\n",
       "    .dataframe thead th {\n",
       "        text-align: right;\n",
       "    }\n",
       "</style>\n",
       "<table border=\"1\" class=\"dataframe\">\n",
       "  <thead>\n",
       "    <tr style=\"text-align: right;\">\n",
       "      <th></th>\n",
       "      <th>Company</th>\n",
       "      <th>Total Salary</th>\n",
       "      <th>Experience_Required</th>\n",
       "      <th>Average_Salary_L</th>\n",
       "      <th>Minimum_Salary_L</th>\n",
       "      <th>Maximum_Salary_L</th>\n",
       "    </tr>\n",
       "  </thead>\n",
       "  <tbody>\n",
       "    <tr>\n",
       "      <th>0</th>\n",
       "      <td>Tekion</td>\n",
       "      <td>[  10 ]</td>\n",
       "      <td>4</td>\n",
       "      <td>23.3</td>\n",
       "      <td>14.0</td>\n",
       "      <td>32.0</td>\n",
       "    </tr>\n",
       "    <tr>\n",
       "      <th>1</th>\n",
       "      <td>Microsoft Corporation</td>\n",
       "      <td>[  227 ]</td>\n",
       "      <td>1-4</td>\n",
       "      <td>23.1</td>\n",
       "      <td>13.0</td>\n",
       "      <td>45.0</td>\n",
       "    </tr>\n",
       "    <tr>\n",
       "      <th>2</th>\n",
       "      <td>Goldman Sachs</td>\n",
       "      <td>[  12 ]</td>\n",
       "      <td>2</td>\n",
       "      <td>22.1</td>\n",
       "      <td>16.0</td>\n",
       "      <td>30.0</td>\n",
       "    </tr>\n",
       "    <tr>\n",
       "      <th>3</th>\n",
       "      <td>Flipkart</td>\n",
       "      <td>[  53 ]</td>\n",
       "      <td>1-4</td>\n",
       "      <td>20.9</td>\n",
       "      <td>7.5</td>\n",
       "      <td>30.0</td>\n",
       "    </tr>\n",
       "    <tr>\n",
       "      <th>4</th>\n",
       "      <td>PayPal</td>\n",
       "      <td>[  22 ]</td>\n",
       "      <td>1-2</td>\n",
       "      <td>20.0</td>\n",
       "      <td>12.0</td>\n",
       "      <td>28.4</td>\n",
       "    </tr>\n",
       "    <tr>\n",
       "      <th>5</th>\n",
       "      <td>Amazon</td>\n",
       "      <td>[  89 ]</td>\n",
       "      <td>1-4</td>\n",
       "      <td>19.3</td>\n",
       "      <td>8.0</td>\n",
       "      <td>41.5</td>\n",
       "    </tr>\n",
       "    <tr>\n",
       "      <th>6</th>\n",
       "      <td>Servicenow Software Development India</td>\n",
       "      <td>[  41 ]</td>\n",
       "      <td>2-4</td>\n",
       "      <td>19.0</td>\n",
       "      <td>12.0</td>\n",
       "      <td>25.8</td>\n",
       "    </tr>\n",
       "    <tr>\n",
       "      <th>7</th>\n",
       "      <td>Arcesium</td>\n",
       "      <td>[  48 ]</td>\n",
       "      <td>1-2</td>\n",
       "      <td>18.4</td>\n",
       "      <td>12.0</td>\n",
       "      <td>30.0</td>\n",
       "    </tr>\n",
       "    <tr>\n",
       "      <th>8</th>\n",
       "      <td>Walmart</td>\n",
       "      <td>[  82 ]</td>\n",
       "      <td>1-4</td>\n",
       "      <td>18.0</td>\n",
       "      <td>10.0</td>\n",
       "      <td>32.0</td>\n",
       "    </tr>\n",
       "    <tr>\n",
       "      <th>9</th>\n",
       "      <td>ServiceNow</td>\n",
       "      <td>[  18 ]</td>\n",
       "      <td>3</td>\n",
       "      <td>17.3</td>\n",
       "      <td>11.0</td>\n",
       "      <td>23.0</td>\n",
       "    </tr>\n",
       "  </tbody>\n",
       "</table>\n",
       "</div>"
      ],
      "text/plain": [
       "                                 Company Total Salary Experience_Required  \\\n",
       "0                                 Tekion      [  10 ]                  4    \n",
       "1                  Microsoft Corporation     [  227 ]                1-4    \n",
       "2                          Goldman Sachs      [  12 ]                  2    \n",
       "3                               Flipkart      [  53 ]                1-4    \n",
       "4                                 PayPal      [  22 ]                1-2    \n",
       "5                                 Amazon      [  89 ]                1-4    \n",
       "6  Servicenow Software Development India      [  41 ]                2-4    \n",
       "7                               Arcesium      [  48 ]                1-2    \n",
       "8                                Walmart      [  82 ]                1-4    \n",
       "9                             ServiceNow      [  18 ]                  3    \n",
       "\n",
       "  Average_Salary_L Minimum_Salary_L Maximum_Salary_L  \n",
       "0             23.3             14.0             32.0  \n",
       "1             23.1             13.0             45.0  \n",
       "2             22.1             16.0             30.0  \n",
       "3             20.9              7.5             30.0  \n",
       "4             20.0             12.0             28.4  \n",
       "5             19.3              8.0             41.5  \n",
       "6             19.0             12.0             25.8  \n",
       "7             18.4             12.0             30.0  \n",
       "8             18.0             10.0             32.0  \n",
       "9             17.3             11.0             23.0  "
      ]
     },
     "execution_count": 104,
     "metadata": {},
     "output_type": "execute_result"
    }
   ],
   "source": [
    "details=pd.DataFrame({})\n",
    "details[\"Company\"] = name[:10]\n",
    "details[\"Total Salary\"] = salary_record[:10]\n",
    "details[\"Experience_Required\"] = exp[:10]\n",
    "details[\"Average_Salary_L\"] = avg_salary[:10]\n",
    "details[\"Minimum_Salary_L\"] = min_salary\n",
    "details[\"Maximum_Salary_L\"] = max_salary\n",
    "details"
   ]
  },
  {
   "cell_type": "code",
   "execution_count": 105,
   "id": "8bcfea8b",
   "metadata": {},
   "outputs": [],
   "source": [
    "driver.close()"
   ]
  }
 ],
 "metadata": {
  "kernelspec": {
   "display_name": "Python 3",
   "language": "python",
   "name": "python3"
  },
  "language_info": {
   "codemirror_mode": {
    "name": "ipython",
    "version": 3
   },
   "file_extension": ".py",
   "mimetype": "text/x-python",
   "name": "python",
   "nbconvert_exporter": "python",
   "pygments_lexer": "ipython3",
   "version": "3.8.8"
  }
 },
 "nbformat": 4,
 "nbformat_minor": 5
}
